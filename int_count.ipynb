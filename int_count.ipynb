{
 "cells": [
  {
   "cell_type": "markdown",
   "metadata": {},
   "source": [
    "# Interloper count\n",
    "\n",
    "*24 Nov 2020*\n",
    "\n",
    "A notebook to count how many interlopers of a given mass range we expect! (Made this notebook while mostly working in `~/ml-interlopers/`.)\n",
    "\n",
    "*Copying some code from `plateau.ipynb`.*"
   ]
  },
  {
   "cell_type": "code",
   "execution_count": 1,
   "metadata": {},
   "outputs": [],
   "source": [
    "import numpy as np\n",
    "import matplotlib.pyplot as plt\n",
    "\n",
    "from astropy.cosmology import FlatLambdaCDM, z_at_value\n",
    "from astropy import units as u\n",
    "from astropy import constants as c\n",
    "\n",
    "from scipy.integrate import quad, dblquad\n",
    "from scipy.interpolate import interp1d, interp2d\n",
    "from scipy.misc import derivative\n",
    "\n",
    "from helpers import sigma_cr\n",
    "\n",
    "cosmo = FlatLambdaCDM(H0=67.5, Om0=0.316)\n",
    "#cosmo = FlatLambdaCDM(H0=67.66 * u.km/u.s/u.Mpc, Om0=0.321) # Planck 2018 values\n",
    "arcsec_in_rad = np.pi/648000"
   ]
  },
  {
   "cell_type": "markdown",
   "metadata": {},
   "source": [
    "Define the mass range here:"
   ]
  },
  {
   "cell_type": "code",
   "execution_count": 2,
   "metadata": {},
   "outputs": [],
   "source": [
    "z_low = .01 # for numerical reasons, sometimes we can't go all the way down to 0\n",
    "z_lower = .001\n",
    "m_low = 1e8 # in Msun\n",
    "m_high = 1e10"
   ]
  },
  {
   "cell_type": "code",
   "execution_count": 3,
   "metadata": {},
   "outputs": [],
   "source": [
    "def chi_to_z(chi):\n",
    "    \"\"\"Takes in `chi` as a number of kpc\"\"\"\n",
    "    return z_at_value(cosmo.comoving_distance, chi*u.kpc, zmax=3.1)\n",
    "def z_to_chi(z):\n",
    "    \"\"\"Returns chi as a number of kpc\"\"\"\n",
    "    return cosmo.comoving_distance(z).to(u.kpc).value\n",
    "chilist = np.linspace(z_to_chi(z_lower),z_to_chi(3),100)\n",
    "zlist = [chi_to_z(chi) for chi in chilist]\n",
    "chi_to_z_fast = interp1d(chilist, zlist)\n",
    "z_to_chi_fast = interp1d(zlist, chilist)"
   ]
  },
  {
   "cell_type": "markdown",
   "metadata": {},
   "source": [
    "## Sheth-Tormen"
   ]
  },
  {
   "cell_type": "code",
   "execution_count": 4,
   "metadata": {},
   "outputs": [],
   "source": [
    "# Load ST results\n",
    "h = .675\n",
    "massesn = np.load('files/st_results/WIDE_massesn_ST.npy')\n",
    "massfunc_mat = np.load('files/st_results/WIDE_massfunc_ST.npy') / 1000**3 # * h**3/1000**3\n",
    "redshifts = np.load('files/st_results/WIDE_redshifts_ST.npy')\n",
    "\n",
    "massfunc = interp2d(redshifts, massesn, massfunc_mat, bounds_error=True) # function of (z, mass)"
   ]
  },
  {
   "cell_type": "markdown",
   "metadata": {},
   "source": [
    "`massfunc` corresponds to:\n",
    "$$n(z, m).$$"
   ]
  },
  {
   "cell_type": "markdown",
   "metadata": {},
   "source": [
    "## Double-cone radius"
   ]
  },
  {
   "cell_type": "code",
   "execution_count": 5,
   "metadata": {},
   "outputs": [],
   "source": [
    "def double_cone_direct(com_z, com_l, com_s):\n",
    "    # Input can be in any units\n",
    "    if com_z < com_l:\n",
    "        return com_z / com_l\n",
    "    else:\n",
    "        return (com_s - com_z) / (com_s - com_l)\n",
    "    \n",
    "def double_cone_zspace(z, zl, zs):\n",
    "    return double_cone_direct(z_to_chi_fast(z), z_to_chi_fast(zl), z_to_chi_fast(zs))"
   ]
  },
  {
   "cell_type": "code",
   "execution_count": 6,
   "metadata": {},
   "outputs": [
    {
     "data": {
      "text/plain": [
       "Text(0, 0.5, 'Double cone radius (arb. units)')"
      ]
     },
     "execution_count": 6,
     "metadata": {},
     "output_type": "execute_result"
    },
    {
     "data": {
      "image/png": "[encoded data removed]",
      "text/plain": [
       "<Figure size 432x288 with 1 Axes>"
      ]
     },
     "metadata": {
      "needs_background": "light"
     },
     "output_type": "display_data"
    }
   ],
   "source": [
    "plot_zs = np.linspace(z_low,1,100)\n",
    "plot_coms = z_to_chi_fast(plot_zs)\n",
    "plt.plot(plot_zs, [double_cone_zspace(z, 0.5, 1) for z in plot_zs])\n",
    "plt.xlabel('Redshift')\n",
    "plt.ylabel('Double cone radius (arb. units)')"
   ]
  },
  {
   "cell_type": "markdown",
   "metadata": {},
   "source": [
    "### Derivative $d\\chi / dz$\n",
    "We'll interpolate to save time while integrating"
   ]
  },
  {
   "cell_type": "code",
   "execution_count": 7,
   "metadata": {},
   "outputs": [],
   "source": [
    "z_vals = np.linspace(1e-5,3,200)\n",
    "dchi_dz_func = interp1d(z_vals, 1000*derivative(cosmo.comoving_distance, z_vals, dx=.00001)) # in terms of kpc (cosmo.comoving_distance was in Mpc)"
   ]
  },
  {
   "cell_type": "code",
   "execution_count": 8,
   "metadata": {},
   "outputs": [],
   "source": [
    "## These two lines should give roughly the same answer (and they do)\n",
    "# quad(dchi_dz_func, 0, 1)\n",
    "# z_to_chi(1)"
   ]
  },
  {
   "cell_type": "code",
   "execution_count": 9,
   "metadata": {},
   "outputs": [
    {
     "data": {
      "text/plain": [
       "Text(0.5, 0, 'z')"
      ]
     },
     "execution_count": 9,
     "metadata": {},
     "output_type": "execute_result"
    },
    {
     "data": {
      "image/png": "[encoded data removed]",
      "text/plain": [
       "<Figure size 432x288 with 1 Axes>"
      ]
     },
     "metadata": {
      "needs_background": "light"
     },
     "output_type": "display_data"
    }
   ],
   "source": [
    "plt.plot(z_vals, dchi_dz_func(z_vals))\n",
    "plt.ylabel('d chi / d z', size=16)\n",
    "plt.xlabel('z', size=16)"
   ]
  },
  {
   "cell_type": "markdown",
   "metadata": {},
   "source": [
    "## Integral\n",
    "\n",
    "$$N = R_\\mathrm{ref}^2 \\int_0^{z_s} dz \\frac{d\\chi}{dz} \\frac{R^2(z)}{R^2(z_\\ell)} \\int_{m_l}^{m_h} n(z,m) dm$$\n",
    "where\n",
    "- $N$ is the number per arcsec squared (I wrote radian squared earlier, but I think that was a mistake)\n",
    "- $R_\\mathrm{ref} = \\chi_\\ell \\cdot \\mathrm{arcsec}$ converts the integral from count per comoving area at $z_\\ell$ to count per arcsec$^2$\n",
    "- $n$ is the ST mass function"
   ]
  },
  {
   "cell_type": "markdown",
   "metadata": {},
   "source": [
    "*No effective mass function*\n",
    "\n",
    "Note that we could use the effective mass function to define the bounds of the mass integral, but since it does not affect the result much and for simplicity, we'll just skip it. Below (after Subhalo Count), we will redo this calculation accounting for the effective mass function and show that it gives a similar result."
   ]
  },
  {
   "cell_type": "markdown",
   "metadata": {},
   "source": [
    "### Mass integral"
   ]
  },
  {
   "cell_type": "code",
   "execution_count": 10,
   "metadata": {},
   "outputs": [],
   "source": [
    "z_list = np.linspace(z_lower, 3 - z_lower, 20)\n",
    "mass_integral_list = [quad(lambda m: massfunc(z,m), m_low, m_high, epsrel=1e-2)[0]\n",
    "                      for z in z_list]\n",
    "mass_integral_func = interp1d(z_list, mass_integral_list)"
   ]
  },
  {
   "cell_type": "code",
   "execution_count": 11,
   "metadata": {},
   "outputs": [
    {
     "data": {
      "text/plain": [
       "Text(0, 0.5, 'Number density of all masses in range (/comoving volume; units?)')"
      ]
     },
     "execution_count": 11,
     "metadata": {},
     "output_type": "execute_result"
    },
    {
     "data": {
      "image/png": "[encoded data removed]",
      "text/plain": [
       "<Figure size 432x288 with 1 Axes>"
      ]
     },
     "metadata": {
      "needs_background": "light"
     },
     "output_type": "display_data"
    }
   ],
   "source": [
    "plt.plot(z_list, mass_integral_list)\n",
    "plt.xlabel('Redshift')\n",
    "plt.ylabel('Number density of all masses in range (/comoving volume; units?)') # per comoving kpc^3 I think?"
   ]
  },
  {
   "cell_type": "markdown",
   "metadata": {},
   "source": [
    "### Rest of integral"
   ]
  },
  {
   "cell_type": "code",
   "execution_count": 12,
   "metadata": {},
   "outputs": [],
   "source": [
    "def integrand(z, zl, zs):\n",
    "    return dchi_dz_func(z) * double_cone_zspace(z, zl, zs)**2 * mass_integral_func(z)\n",
    "\n",
    "def integral(zl, zs):\n",
    "    rref = z_to_chi(zl) * arcsec_in_rad # one arcsec in comoving kpc (at the lens)\n",
    "    return rref**2 * quad(lambda z: integrand(z, zl, zs), z_low, zs, epsrel=1e-2)[0]"
   ]
  },
  {
   "cell_type": "code",
   "execution_count": 13,
   "metadata": {},
   "outputs": [
    {
     "data": {
      "text/plain": [
       "1.4933663762238345"
      ]
     },
     "execution_count": 13,
     "metadata": {},
     "output_type": "execute_result"
    }
   ],
   "source": [
    "integral(.5, 1)"
   ]
  },
  {
   "cell_type": "code",
   "execution_count": 14,
   "metadata": {},
   "outputs": [],
   "source": [
    "zllist = np.linspace(z_low, 3-z_low, 40)\n",
    "zslist = np.linspace(z_low, 3-z_low, 40)\n",
    "number_grid = np.zeros((len(zllist), len(zslist)))\n",
    "\n",
    "for i_l, z_l in enumerate(zllist):\n",
    "    for i_s, z_s in enumerate(zslist):\n",
    "        if z_s <= z_l: continue\n",
    "            \n",
    "        #print(z_l, z_s)\n",
    "        number_grid[i_l, i_s] = integral(z_l, z_s)"
   ]
  },
  {
   "cell_type": "code",
   "execution_count": 15,
   "metadata": {},
   "outputs": [
    {
     "name": "stderr",
     "output_type": "stream",
     "text": [
      "<ipython-input-15-0247b3a27ee2>:1: RuntimeWarning: divide by zero encountered in log10\n",
      "  plt.contourf(np.log10(number_grid.T),\n",
      "<ipython-input-15-0247b3a27ee2>:5: RuntimeWarning: divide by zero encountered in log10\n",
      "  plt.contour(np.log10(number_grid.T),\n"
     ]
    },
    {
     "data": {
      "text/plain": [
       "Text(0.5, 1.0, '$\\\\log_{10}(N_I/\\\\mathrm{arcsec^{-2}})$')"
      ]
     },
     "execution_count": 15,
     "metadata": {},
     "output_type": "execute_result"
    },
    {
     "data": {
      "image/png": "[encoded data removed]",
      "text/plain": [
       "<Figure size 432x288 with 2 Axes>"
      ]
     },
     "metadata": {
      "needs_background": "light"
     },
     "output_type": "display_data"
    }
   ],
   "source": [
    "plt.contourf(np.log10(number_grid.T),\n",
    "           origin='lower', extent=[zllist[0], zllist[-1], zslist[0], zslist[-1]],\n",
    "            levels=np.arange(-4,2.1,.5))\n",
    "plt.colorbar()\n",
    "plt.contour(np.log10(number_grid.T),\n",
    "           origin='lower', extent=[zllist[0], zllist[-1], zslist[0], zslist[-1]],\n",
    "            levels=[0])\n",
    "plt.xlabel('z_l')\n",
    "plt.ylabel('z_s')\n",
    "plt.xlim(0,3)\n",
    "plt.ylim(0,3)\n",
    "plt.title(r'$\\log_{10}(N_I/\\mathrm{arcsec^{-2}})$')"
   ]
  },
  {
   "cell_type": "markdown",
   "metadata": {},
   "source": [
    "In particular for $z_l = 0.5$, $z_s = 1$, this comes out to"
   ]
  },
  {
   "cell_type": "code",
   "execution_count": 16,
   "metadata": {},
   "outputs": [
    {
     "data": {
      "text/plain": [
       "1.4933663762238345"
      ]
     },
     "execution_count": 16,
     "metadata": {},
     "output_type": "execute_result"
    }
   ],
   "source": [
    "integral(.5, 1)"
   ]
  },
  {
   "cell_type": "markdown",
   "metadata": {},
   "source": [
    "Let's remember this number and compare with subhalos in the next section."
   ]
  },
  {
   "cell_type": "markdown",
   "metadata": {},
   "source": [
    "# Subhalo count\n",
    "\n",
    "Now we'll do the same thing for subhalos.\n",
    "\n",
    "Referencing the work we did in the [lensing overleaf](https://www.overleaf.com/project/5d68719c24d2c7071c21ca8e) in `subhalo_normalization.tex`, the number density of subhalos is given by:\n",
    "$$\\frac{d^2 N}{dmdA} = F m^{-1.9}$$\n",
    "(area $A$ is already in physical units) where\n",
    "$$F = \\Sigma_{cr} \\bar{\\kappa}_\\textit{sub} \\frac{0.1}{m_\\textit{high}^{0.1} - m_\\textit{low}^{0.1}}$$\n",
    "and $\\bar{\\kappa}_\\textit{sub} = f_\\textit{sub}/2$ for \"moderately elliptical\" lenses. Note that $m_\\textit{high}$ and $m_\\textit{low}$ are just the bounds of subhalo masses that get counted in $\\bar{\\kappa}_\\textit{sub}$ (or equivalently $f_\\textit{sub}$).\n",
    "\n",
    "Integrating out to get $dN/dA$, we find\n",
    "$$\\frac{dN}{dA} = F \\frac{m_l^{-.9} - m_h^{-.9}}{.9}$$\n",
    "where $m_l$ and $m_h$ are the bounds of subhalos that we are actually interested in."
   ]
  },
  {
   "cell_type": "code",
   "execution_count": 31,
   "metadata": {},
   "outputs": [
    {
     "name": "stdout",
     "output_type": "stream",
     "text": [
      "190963.54202053367 solMass(9/10) / kpc2\n"
     ]
    }
   ],
   "source": [
    "fsub = 4e-3 # more likely value according to arxiv:2006.07383\n",
    "mhigh_fsub = 1e8 * u.Msun # don't mess with this value: this is the mass range used to define fsub\n",
    "mlow_fsub = 1e5 * u.Msun  # (same here)\n",
    "zl = 0.5 # Notice that we pick a fiducial zl and zs right away here (instead of making this a nice function suitable for a 2d graph).\n",
    "zs = 1.0\n",
    "dl = cosmo.angular_diameter_distance(zl)\n",
    "ds = cosmo.angular_diameter_distance(zs)\n",
    "dls = cosmo.angular_diameter_distance_z1z2(zl, zs)\n",
    "#print(dl, ds, dls)\n",
    "sigma_cr = c.c**2 / (4*np.pi*c.G) * ds / (dl * dls)\n",
    "kappa_bar = fsub / 2.\n",
    "bigF = sigma_cr * kappa_bar * 0.1 / (mhigh_fsub**0.1 - mlow_fsub**0.1)\n",
    "bigF = bigF.to(u.Msun**0.9 * u.kpc**-2) # physical kpc\n",
    "print(bigF)"
   ]
  },
  {
   "cell_type": "code",
   "execution_count": 32,
   "metadata": {},
   "outputs": [
    {
     "name": "stdout",
     "output_type": "stream",
     "text": [
      "0.013175579327289147 1 / kpc2\n"
     ]
    }
   ],
   "source": [
    "mh = m_high * u.Msun # use same mass range as interlopers\n",
    "ml = m_low * u.Msun\n",
    "#mh = 1e10 * u.Msun\n",
    "#ml = 1e9 * u.Msun\n",
    "number_per_area = bigF * (ml**-.9 - mh**-.9) / .9\n",
    "print(number_per_area)"
   ]
  },
  {
   "cell_type": "code",
   "execution_count": 33,
   "metadata": {},
   "outputs": [],
   "source": [
    "area_in_as_sq = (arcsec_in_rad * dl)**2 # physical area\n",
    "area_in_as_sq = area_in_as_sq.to(u.kpc**2)"
   ]
  },
  {
   "cell_type": "code",
   "execution_count": 34,
   "metadata": {},
   "outputs": [
    {
     "data": {
      "text/latex": [
       "$0.52220342 \\; \\mathrm{}$"
      ],
      "text/plain": [
       "<Quantity 0.52220342>"
      ]
     },
     "execution_count": 34,
     "metadata": {},
     "output_type": "execute_result"
    }
   ],
   "source": [
    "number_in_as_sq = number_per_area * area_in_as_sq\n",
    "number_in_as_sq"
   ]
  },
  {
   "cell_type": "markdown",
   "metadata": {},
   "source": [
    "So (with mass range $10^8$ to $10^{10}\\,M_\\odot$), the interloper number density is around 1.5 and the subhalo number density is around .5. This means we expect roughly 3x as many interlopers."
   ]
  },
  {
   "cell_type": "markdown",
   "metadata": {},
   "source": [
    "---\n",
    "# Interloper count (accounting for effective mass)\n",
    "\n",
    "Try redoing the count but this time counting interlopers whose effective mass falls within the range!"
   ]
  },
  {
   "cell_type": "markdown",
   "metadata": {},
   "source": [
    "## Effective mass function"
   ]
  },
  {
   "cell_type": "code",
   "execution_count": 35,
   "metadata": {},
   "outputs": [],
   "source": [
    "def meff_ratio(z_int, z_lens, z_source):\n",
    "    def beta(i, j):\n",
    "        dij = cosmo.angular_diameter_distance_z1z2(i, j)\n",
    "        ds = cosmo.angular_diameter_distance(z_source)\n",
    "        dj = cosmo.angular_diameter_distance(j)\n",
    "        dis = cosmo.angular_diameter_distance_z1z2(i, z_source)\n",
    "        return  dij * ds / (dj * dis)\n",
    "\n",
    "    if z_int <= z_lens:\n",
    "        f = 1 - beta(z_int, z_lens)\n",
    "        g = 1\n",
    "    else:\n",
    "        f = 1 - beta(z_lens, z_int)\n",
    "        g = f\n",
    "\n",
    "    def sigcr(z):\n",
    "        const = c.c**2 / (4 * np.pi * c.G)\n",
    "        ds = cosmo.angular_diameter_distance(z_source)\n",
    "        di = cosmo.angular_diameter_distance(z)\n",
    "        dis = cosmo.angular_diameter_distance_z1z2(z, z_source)\n",
    "        return const * ds / (di * dis)\n",
    "    \n",
    "    dl = cosmo.angular_diameter_distance(z_lens)\n",
    "    di = cosmo.angular_diameter_distance(z_int)\n",
    "    ratio = f * sigcr(z_lens) / sigcr(z_int) * (dl / (g * di))**2\n",
    "    return ratio"
   ]
  },
  {
   "cell_type": "code",
   "execution_count": 36,
   "metadata": {},
   "outputs": [
    {
     "data": {
      "text/plain": [
       "Text(0, 0.5, 'Effective mass ratio')"
      ]
     },
     "execution_count": 36,
     "metadata": {},
     "output_type": "execute_result"
    },
    {
     "data": {
      "image/png": "[encoded data removed]",
      "text/plain": [
       "<Figure size 432x288 with 1 Axes>"
      ]
     },
     "metadata": {
      "needs_background": "light"
     },
     "output_type": "display_data"
    }
   ],
   "source": [
    "z_list = np.linspace(z_lower, 1 - z_lower, 20)\n",
    "meff_ratios = [meff_ratio(z, .5, 1) for z in z_list]\n",
    "plt.plot(z_list, meff_ratios)\n",
    "plt.title('(Specific for zl, zs)')\n",
    "plt.xlabel('z')\n",
    "plt.ylabel('Effective mass ratio')"
   ]
  },
  {
   "cell_type": "markdown",
   "metadata": {},
   "source": [
    "## New integral\n",
    "The integral is almost the same as earlier. The only thing we change are the mass bounds on the inner integral:\n",
    "$$N = R_\\mathrm{ref}^2 \\int_0^{z_s} dz \\frac{d\\chi}{dz} \\frac{R^2(z)}{R^2(z_\\ell)} \\int_{m_l/\\mu(z)}^{m_h/\\mu(z)} n(z,m) dm$$\n",
    "where:\n",
    "- $\\mu(z) = m_\\mathrm{eff}/m$, the effective mass ratio.\n",
    "\n",
    "So now, it's a bit of a shame because we need to recalculate the mass integral for every $z_l, z_s$ combination."
   ]
  },
  {
   "cell_type": "markdown",
   "metadata": {},
   "source": [
    "### New mass integral"
   ]
  },
  {
   "cell_type": "code",
   "execution_count": 37,
   "metadata": {},
   "outputs": [],
   "source": [
    "mass_integral_list = [quad(lambda m: massfunc(z,m), m_low/meff_ratio(z, .5, 1), m_high/meff_ratio(z, .5, 1), epsrel=1e-2)[0]\n",
    "                      for z in z_list]\n",
    "mass_integral_func = interp1d(z_list, mass_integral_list)"
   ]
  },
  {
   "cell_type": "code",
   "execution_count": 38,
   "metadata": {},
   "outputs": [
    {
     "data": {
      "text/plain": [
       "Text(0, 0.5, 'Number density of all masses in range (/comoving volume; units?)')"
      ]
     },
     "execution_count": 38,
     "metadata": {},
     "output_type": "execute_result"
    },
    {
     "data": {
      "image/png": "[encoded data removed]",
      "text/plain": [
       "<Figure size 432x288 with 1 Axes>"
      ]
     },
     "metadata": {
      "needs_background": "light"
     },
     "output_type": "display_data"
    }
   ],
   "source": [
    "plt.plot(z_list, mass_integral_list)\n",
    "plt.xlabel('Redshift')\n",
    "plt.ylabel('Number density of all masses in range (/comoving volume; units?)') # per comoving kpc^3 I think?"
   ]
  },
  {
   "cell_type": "code",
   "execution_count": 39,
   "metadata": {},
   "outputs": [],
   "source": [
    "def integrand(z, zl, zs):\n",
    "    return dchi_dz_func(z) * double_cone_zspace(z, zl, zs)**2 * mass_integral_func(z)\n",
    "\n",
    "def integral(zl, zs):\n",
    "    rref = z_to_chi(zl) * arcsec_in_rad # one arcsec in comoving kpc (at the lens)\n",
    "    return rref**2 * quad(lambda z: integrand(z, zl, zs), z_low, zs, epsrel=1e-2)[0]"
   ]
  },
  {
   "cell_type": "code",
   "execution_count": 40,
   "metadata": {},
   "outputs": [
    {
     "data": {
      "text/plain": [
       "1.4577459869805576"
      ]
     },
     "execution_count": 40,
     "metadata": {},
     "output_type": "execute_result"
    }
   ],
   "source": [
    "integral(.5, 1)"
   ]
  }
 ],
 "metadata": {
  "kernelspec": {
   "display_name": "Python 3",
   "language": "python",
   "name": "python3"
  },
  "language_info": {
   "codemirror_mode": {
    "name": "ipython",
    "version": 3
   },
   "file_extension": ".py",
   "mimetype": "text/x-python",
   "name": "python",
   "nbconvert_exporter": "python",
   "pygments_lexer": "ipython3",
   "version": "3.8.8"
  }
 },
 "nbformat": 4,
 "nbformat_minor": 4
}
