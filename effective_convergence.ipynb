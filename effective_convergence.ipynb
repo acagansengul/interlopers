{
 "cells": [
  {
   "cell_type": "markdown",
   "metadata": {},
   "source": [
    "# Effective Convergence\n",
    "*24 January 2020*\n",
    "\n",
    "In this notebook, we'll be using an idea I didn't realize up till now, that we can define the effective convergence as:\n",
    "$$\\kappa_\\mathrm{eff} = \\frac{1}{2} \\nabla \\cdot \\vec\\alpha$$\n",
    "(thanks to [Gilman+ 2019](https://arxiv.org/pdf/1901.11031.pdf)).\n",
    "\n",
    "Note that we're updating from `lenstronomy 1.0.1` to `1.3.0` (this new version has tNFW profiles)."
   ]
  },
  {
   "cell_type": "code",
   "execution_count": 1,
   "metadata": {},
   "outputs": [],
   "source": [
    "import numpy as np\n",
    "import matplotlib.pyplot as plt\n",
    "%matplotlib inline\n",
    "\n",
    "from astropy.cosmology import FlatLambdaCDM\n",
    "from astropy import units as u\n",
    "\n",
    "from scipy import fftpack\n",
    "from scipy.interpolate import interp1d, interp2d\n",
    "from scipy.integrate import quad\n",
    "from scipy.stats import poisson\n",
    "\n",
    "from helpers import CustomImage, autoshow"
   ]
  },
  {
   "cell_type": "code",
   "execution_count": 2,
   "metadata": {},
   "outputs": [
    {
     "name": "stdout",
     "output_type": "stream",
     "text": [
      "0.008\n"
     ]
    }
   ],
   "source": [
    "# Basic parameters\n",
    "zl = 0.5\n",
    "zs = 1.\n",
    "# pixnum, pixsize = 200, .008 # to match S. Birrer's paper (roughly)\n",
    "# ext = pixnum * pixsize / 2.\n",
    "pixnum = 200\n",
    "ext = 0.8 # should be .8 to match Simon's paper\n",
    "pixsize = 2*ext / pixnum\n",
    "print(pixsize)"
   ]
  },
  {
   "cell_type": "code",
   "execution_count": 3,
   "metadata": {},
   "outputs": [
    {
     "name": "stdout",
     "output_type": "stream",
     "text": [
      "14.569745638522322 kpc\n"
     ]
    }
   ],
   "source": [
    "## Calculate physical size of image\n",
    "# ( note: 845000 kpc to z=.2 )\n",
    "# distance = 1947000 # kpc to z=.5\n",
    "\n",
    "cosmo = FlatLambdaCDM(H0=70, Om0=0.316)\n",
    "\n",
    "com_l = cosmo.comoving_distance(zl).to(u.kpc).value\n",
    "com_s = cosmo.comoving_distance(zs).to(u.kpc).value\n",
    "angle = (2*ext) * np.pi/648000 # rad\n",
    "com_width_kpc = com_l * angle # comoving width in kpc\n",
    "print(com_width_kpc, 'kpc')"
   ]
  },
  {
   "cell_type": "code",
   "execution_count": 4,
   "metadata": {},
   "outputs": [],
   "source": [
    "# vol_rough = com_width_kpc**2 * com_s # kpc^3\n",
    "# # 3.391e6\n",
    "# print('comoving volume is approx', vol_rough / 1e6, 'million kpc^3')\n",
    "# del vol_rough"
   ]
  },
  {
   "cell_type": "markdown",
   "metadata": {},
   "source": [
    "## Double cone shape"
   ]
  },
  {
   "cell_type": "code",
   "execution_count": 5,
   "metadata": {},
   "outputs": [
    {
     "name": "stdout",
     "output_type": "stream",
     "text": [
      "com_l 1878266.1007495527 com_s 3273038.879969728\n",
      "integral (in kpc) (1636519.4398168526, 0.024362179450690746)\n",
      "double prism volume 347.3962357004227 million kpc^3\n"
     ]
    }
   ],
   "source": [
    "def double_cone_direct(com_z, com_l, com_s):\n",
    "    # Input can be in any units\n",
    "    if com_z < com_l:\n",
    "        return com_z / com_l\n",
    "    else:\n",
    "        return (com_s - com_z) / (com_s - com_l)\n",
    "\n",
    "def double_cone(z, zl=zl, zs=zs):\n",
    "    com_z = cosmo.comoving_distance(z)\n",
    "    com_l = cosmo.comoving_distance(zl)\n",
    "    com_s = cosmo.comoving_distance(zs)\n",
    "    return double_cone_direct(com_z, com_l, com_s)\n",
    "\n",
    "zlist = np.linspace(0, zs, 100)\n",
    "doubleconelist = [double_cone(z) for z in zlist]\n",
    "comlist = [cosmo.comoving_distance(z).to(u.Mpc).value for z in zlist]\n",
    "\n",
    "# plt.plot(zlist, [double_cone(z) for z in zlist]); plt.show()\n",
    "# plt.plot(comlist, doubleconelist); plt.show()\n",
    "\n",
    "com_l = cosmo.comoving_distance(zl).to(u.kpc).value\n",
    "com_s = cosmo.comoving_distance(zs).to(u.kpc).value\n",
    "print('com_l', com_l, 'com_s', com_s)\n",
    "print('integral (in kpc)', quad(double_cone_direct, 0, com_s, args=(com_l, com_s)))\n",
    "\n",
    "double_cone_volume_kpc = com_width_kpc**2 * quad(double_cone_direct, 0, com_s, args=(com_l, com_s))[0] # volume of double-cone in kpc**3 (really double prism)\n",
    "\n",
    "print('double prism volume', double_cone_volume_kpc / 1e6, 'million kpc^3')"
   ]
  },
  {
   "cell_type": "markdown",
   "metadata": {},
   "source": [
    "## Substructure\n",
    "### Interlopers"
   ]
  },
  {
   "cell_type": "markdown",
   "metadata": {},
   "source": [
    "Units: `massesn` has units of $M_\\odot$. `massfunc` has units of 1/(Mpc/h)^3 / M_sun (comoving distance)."
   ]
  },
  {
   "cell_type": "code",
   "execution_count": 6,
   "metadata": {},
   "outputs": [],
   "source": [
    "# Load Press-Schechter results\n",
    "h = .675\n",
    "massesn = np.load('files/ps_results/massesn_wide.npy') # units solar masses\n",
    "massfunc_matrix = np.load('files/ps_results/massfunc_wide.npy') * h**3/1000**3 # convert Mpc/h^3 to 1/kpc^3\n",
    "zlist = np.load('files/ps_results/zs_wide.npy') # redshifts\n",
    "\n",
    "massfunc = interp2d(zlist, massesn, massfunc_matrix, bounds_error=False) # function of (z, mass)"
   ]
  },
  {
   "cell_type": "code",
   "execution_count": 7,
   "metadata": {},
   "outputs": [],
   "source": [
    "def ps_integrand(mass):\n",
    "    # rough so ignore redshift dependence\n",
    "    return massfunc(.5, mass)"
   ]
  },
  {
   "cell_type": "code",
   "execution_count": 8,
   "metadata": {},
   "outputs": [
    {
     "name": "stdout",
     "output_type": "stream",
     "text": [
      "mass_bins_interlopers: [5.01187234e+05 3.63078055e+06 2.63026799e+07 1.90546072e+08\n",
      " 1.38038426e+09]\n",
      "number 138.9526614470909\n"
     ]
    },
    {
     "data": {
      "image/png": "[encoded data removed]",
      "text/plain": [
       "<Figure size 432x288 with 1 Axes>"
      ]
     },
     "metadata": {
      "needs_background": "light"
     },
     "output_type": "display_data"
    }
   ],
   "source": [
    "# Very simplified: just sorting halos into bins of powers of 10\n",
    "mass_bins_interlopers = np.logspace(5.7,10,6)[:-1]\n",
    "bin_ratio = mass_bins_interlopers[1]/mass_bins_interlopers[0]\n",
    "print('mass_bins_interlopers:',mass_bins_interlopers)\n",
    "avg_nums_interlopers = np.array([double_cone_volume_kpc * quad(ps_integrand, mass, bin_ratio*mass)[0] for mass in mass_bins_interlopers])\n",
    "plt.bar(np.log10(mass_bins_interlopers), avg_nums_interlopers, log=True)\n",
    "plt.xlabel(r'Interloper mass bin ($\\log_{10}$ in $M_\\odot$)')\n",
    "plt.ylabel('Number in entire volume')\n",
    "print('number', np.sum(avg_nums_interlopers))"
   ]
  },
  {
   "cell_type": "markdown",
   "metadata": {},
   "source": [
    "### Subhalos\n",
    "\n",
    "Just a very rough estimate of the mass function:"
   ]
  },
  {
   "cell_type": "code",
   "execution_count": 9,
   "metadata": {},
   "outputs": [
    {
     "name": "stdout",
     "output_type": "stream",
     "text": [
      "phys width (kpc): 9.713163759014881\n"
     ]
    }
   ],
   "source": [
    "from helpers import ADD\n",
    "phys_width_kpc = 2 * ext * np.pi/648000  * ADD(0, zl).to(u.kpc).value\n",
    "print('phys width (kpc):', phys_width_kpc)"
   ]
  },
  {
   "cell_type": "code",
   "execution_count": 10,
   "metadata": {},
   "outputs": [],
   "source": [
    "Sigma_sub = 0.012 # kpc^-2\n",
    "m0 = 1e8 # Msun\n",
    "dNdm_sub = lambda m: Sigma_sub / m0 * (m / m0)**-1.9 * phys_width_kpc**2 # 1/Msun\n",
    "# I think we should use the physical width, but not 100% sure"
   ]
  },
  {
   "cell_type": "code",
   "execution_count": 11,
   "metadata": {},
   "outputs": [
    {
     "data": {
      "text/plain": [
       "array([5.01187234e+05, 5.95662144e+06, 7.07945784e+07, 8.41395142e+08,\n",
       "       1.00000000e+10])"
      ]
     },
     "execution_count": 11,
     "metadata": {},
     "output_type": "execute_result"
    }
   ],
   "source": [
    "np.logspace(5.7,10,5)"
   ]
  },
  {
   "cell_type": "code",
   "execution_count": 12,
   "metadata": {},
   "outputs": [
    {
     "name": "stdout",
     "output_type": "stream",
     "text": [
      "mass bins sub: ['501187', '3.63078e+06', '2.63027e+07', '1.90546e+08', '1.38038e+09']\n",
      "number 147.77520466462553\n"
     ]
    },
    {
     "data": {
      "image/png": "[encoded data removed]",
      "text/plain": [
       "<Figure size 432x288 with 1 Axes>"
      ]
     },
     "metadata": {
      "needs_background": "light"
     },
     "output_type": "display_data"
    }
   ],
   "source": [
    "mass_bins_sub = np.logspace(5.7,10,6)[:-1]\n",
    "bin_ratio = mass_bins_sub[1]/mass_bins_sub[0]\n",
    "print('mass bins sub:', ['%g'%x for x in mass_bins_sub])\n",
    "avg_nums_sub = np.array([quad(dNdm_sub, mass, bin_ratio * mass)[0] for mass in mass_bins_sub])\n",
    "plt.bar(np.log10(mass_bins_sub), avg_nums_sub, log=True)\n",
    "plt.xlabel(r'Subhalo mass bin ($\\log_{10}$ in $M_\\odot$)')\n",
    "plt.ylabel('Number')\n",
    "print('number', np.sum(avg_nums_sub))"
   ]
  },
  {
   "cell_type": "markdown",
   "metadata": {},
   "source": [
    "### Sampling"
   ]
  },
  {
   "cell_type": "code",
   "execution_count": 13,
   "metadata": {},
   "outputs": [],
   "source": [
    "def double_cone_angle(z, zl=zl, zs=zs):\n",
    "    # angle of how wide the interloeprs can be dispersed so that they'd show up in the final image (according to the double-prism projection)\n",
    "    \n",
    "    # returns a ratio, 1 for z <= zl\n",
    "    \n",
    "    com_z = cosmo.comoving_distance(z)\n",
    "    com_l = cosmo.comoving_distance(zl)\n",
    "    return double_cone(z, zl=zl, zs=zs) * com_l / com_z\n",
    "\n",
    "#plt.plot(zlist, [double_cone_angle(z) for z in zlist])"
   ]
  },
  {
   "cell_type": "code",
   "execution_count": 14,
   "metadata": {},
   "outputs": [
    {
     "name": "stdout",
     "output_type": "stream",
     "text": [
      "number of interlopers 116\n",
      "number of subhalos + interlopers 256\n"
     ]
    }
   ],
   "source": [
    "# Populate the interlopers and subhalos\n",
    "\n",
    "np.random.seed(145)\n",
    "n_planes = 10\n",
    "\n",
    "xs, ys, redshifts, masses = [], [], [], []\n",
    "#xyext = ext\n",
    "\n",
    "z_planes = np.linspace(.05,.95,n_planes)\n",
    "area_proportions = [double_cone(z)**2 for z in z_planes]\n",
    "area_sum = np.sum(area_proportions)\n",
    "\n",
    "for i, z_plane in enumerate(z_planes):\n",
    "    rv_nums = poisson.rvs(avg_nums_interlopers * area_proportions[i] / area_sum)\n",
    "    xyext = ext * double_cone_angle(z_plane)\n",
    "    # ^- I thought about multiplying this by 1.5 so we don't get weird boundary effects\n",
    "    #print(rv_nums)\n",
    "    for mass, num in zip(mass_bins_interlopers, rv_nums):\n",
    "        for i in range(num):\n",
    "            xs.append(np.random.uniform(-xyext,xyext))\n",
    "            ys.append(np.random.uniform(-xyext,xyext))\n",
    "            redshifts.append(z_plane)\n",
    "            masses.append(mass)\n",
    "print('number of interlopers', len(xs))\n",
    "rv_nums = poisson.rvs(avg_nums_sub) if len(avg_nums_sub) > 1 else [poisson.rvs(avg_nums_sub)]\n",
    "xyext = ext\n",
    "for mass, num in zip(mass_bins_sub, rv_nums):\n",
    "    for i in range(num):\n",
    "        xs.append(np.random.uniform(-xyext,xyext))\n",
    "        ys.append(np.random.uniform(-xyext,xyext))\n",
    "        redshifts.append(zl)\n",
    "        masses.append(mass)\n",
    "print('number of subhalos + interlopers', len(xs))"
   ]
  },
  {
   "cell_type": "code",
   "execution_count": 15,
   "metadata": {},
   "outputs": [],
   "source": [
    "# # These are the (somewhat arbitrary) lens system settings used to create the sample image:\n",
    "# zl = 0.2\n",
    "# xs = [0,.2]\n",
    "# ys = [0.5,-.2]\n",
    "# redshifts = [.2,.25]"
   ]
  },
  {
   "cell_type": "code",
   "execution_count": 16,
   "metadata": {},
   "outputs": [],
   "source": [
    "# # Now we'll try something more intense\n",
    "# np.random.seed(123)\n",
    "\n",
    "\n",
    "# xs, ys, redshifts, masses = [], [], [], []\n",
    "# for i in range(50):\n",
    "#     xs.append( np.random.uniform(-.3*ext,.3*ext) )\n",
    "#     ys.append( np.random.uniform(-.3*ext,.3*ext) )\n",
    "#     redshifts.append( np.random.uniform(0,1) ) \n",
    "#     masses.append( 1e8 )"
   ]
  },
  {
   "cell_type": "markdown",
   "metadata": {},
   "source": [
    "---\n",
    "### But first some tests: subhalos only"
   ]
  },
  {
   "cell_type": "code",
   "execution_count": 17,
   "metadata": {},
   "outputs": [
    {
     "name": "stdout",
     "output_type": "stream",
     "text": [
      "number of subhalos 144\n"
     ]
    }
   ],
   "source": [
    "# Populate the subhalos\n",
    "\n",
    "np.random.seed(145)\n",
    "# n_planes = 10\n",
    "\n",
    "xs, ys, redshifts, masses = [], [], [], []\n",
    "#xyext = ext\n",
    "\n",
    "# z_planes = np.linspace(.05,.95,n_planes)\n",
    "# area_proportions = [double_cone(z)**2 for z in z_planes]\n",
    "# area_sum = np.sum(area_proportions)\n",
    "\n",
    "# for i, z_plane in enumerate(z_planes):\n",
    "#     rv_nums = poisson.rvs(avg_nums_interlopers * area_proportions[i] / area_sum)\n",
    "#     xyext = ext * double_cone_angle(z_plane)\n",
    "#     # ^- I thought about multiplying this by 1.5 so we don't get weird boundary effects\n",
    "#     #print(rv_nums)\n",
    "#     for mass, num in zip(mass_bins_interlopers, rv_nums):\n",
    "#         for i in range(num):\n",
    "#             xs.append(np.random.uniform(-xyext,xyext))\n",
    "#             ys.append(np.random.uniform(-xyext,xyext))\n",
    "#             redshifts.append(z_plane)\n",
    "#             masses.append(mass)\n",
    "# print('number of interlopers', len(xs))\n",
    "rv_nums = poisson.rvs(avg_nums_sub) if len(avg_nums_sub) > 1 else [poisson.rvs(avg_nums_sub)]\n",
    "xyext = ext\n",
    "for mass, num in zip(mass_bins_sub, rv_nums):\n",
    "    for i in range(num):\n",
    "        xs.append(np.random.uniform(-xyext,xyext))\n",
    "        ys.append(np.random.uniform(-xyext,xyext))\n",
    "        redshifts.append(zl)\n",
    "        masses.append(mass)\n",
    "print('number of subhalos', len(xs))"
   ]
  },
  {
   "cell_type": "code",
   "execution_count": 18,
   "metadata": {},
   "outputs": [
    {
     "name": "stdout",
     "output_type": "stream",
     "text": [
      "new result of alpha_rs is 1.2135229034175085e-05\n",
      "old result would have been 0.00036458788397843606\n"
     ]
    }
   ],
   "source": [
    "myimg_sub = CustomImage(xs, ys, redshifts, zl=zl, m=masses, pixnum=pixnum, pixsize=pixsize, mass_sheets=False)\n",
    "#myimg_sub = CustomImage([], [], [], zl=zl, m=[], pixnum=pixnum, pixsize=pixsize, mass_sheets=False, main_theta=1e-3)"
   ]
  },
  {
   "cell_type": "code",
   "execution_count": 19,
   "metadata": {},
   "outputs": [
    {
     "data": {
      "image/png": "[encoded data removed]",
      "text/plain": [
       "<Figure size 432x288 with 2 Axes>"
      ]
     },
     "metadata": {
      "needs_background": "light"
     },
     "output_type": "display_data"
    }
   ],
   "source": [
    "blankimg = CustomImage([],[],[], zl=zl, pixnum=pixnum, pixsize=pixsize)\n",
    "autoshow(blankimg.image)\n",
    "blankimg.calc_div_curl();"
   ]
  },
  {
   "cell_type": "code",
   "execution_count": 20,
   "metadata": {},
   "outputs": [
    {
     "ename": "KeyboardInterrupt",
     "evalue": "",
     "output_type": "error",
     "traceback": [
      "\u001b[0;31m---------------------------------------------------------------------------\u001b[0m",
      "\u001b[0;31mKeyboardInterrupt\u001b[0m                         Traceback (most recent call last)",
      "\u001b[0;32m<timed eval>\u001b[0m in \u001b[0;36m<module>\u001b[0;34m\u001b[0m\n",
      "\u001b[0;32m~/Documents/cosmo/interlopers/helpers.py\u001b[0m in \u001b[0;36mcalc_div_curl\u001b[0;34m(self)\u001b[0m\n\u001b[1;32m    886\u001b[0m             \u001b[0;32mfor\u001b[0m \u001b[0mypix\u001b[0m \u001b[0;32min\u001b[0m \u001b[0mrange\u001b[0m\u001b[0;34m(\u001b[0m\u001b[0mself\u001b[0m\u001b[0;34m.\u001b[0m\u001b[0mpixnum\u001b[0m\u001b[0;34m)\u001b[0m\u001b[0;34m:\u001b[0m\u001b[0;34m\u001b[0m\u001b[0m\n\u001b[1;32m    887\u001b[0m                 \u001b[0mimage_xy\u001b[0m \u001b[0;34m=\u001b[0m \u001b[0mself\u001b[0m\u001b[0;34m.\u001b[0m\u001b[0mpixel_grid\u001b[0m\u001b[0;34m.\u001b[0m\u001b[0mmap_pix2coord\u001b[0m\u001b[0;34m(\u001b[0m\u001b[0mxpix\u001b[0m\u001b[0;34m,\u001b[0m \u001b[0mypix\u001b[0m\u001b[0;34m)\u001b[0m \u001b[0;31m# in angle units\u001b[0m\u001b[0;34m\u001b[0m\u001b[0m\n\u001b[0;32m--> 888\u001b[0;31m                 \u001b[0msource_xy\u001b[0m \u001b[0;34m=\u001b[0m \u001b[0mself\u001b[0m\u001b[0;34m.\u001b[0m\u001b[0mlens_model_mp\u001b[0m\u001b[0;34m.\u001b[0m\u001b[0mray_shooting\u001b[0m\u001b[0;34m(\u001b[0m\u001b[0mimage_xy\u001b[0m\u001b[0;34m[\u001b[0m\u001b[0;36m0\u001b[0m\u001b[0;34m]\u001b[0m\u001b[0;34m,\u001b[0m \u001b[0mimage_xy\u001b[0m\u001b[0;34m[\u001b[0m\u001b[0;36m1\u001b[0m\u001b[0;34m]\u001b[0m\u001b[0;34m,\u001b[0m \u001b[0mself\u001b[0m\u001b[0;34m.\u001b[0m\u001b[0mkwargs_lens\u001b[0m\u001b[0;34m)\u001b[0m\u001b[0;34m\u001b[0m\u001b[0m\n\u001b[0m\u001b[1;32m    889\u001b[0m                 \u001b[0mself\u001b[0m\u001b[0;34m.\u001b[0m\u001b[0malphamat_x\u001b[0m\u001b[0;34m[\u001b[0m\u001b[0mxpix\u001b[0m\u001b[0;34m,\u001b[0m\u001b[0mypix\u001b[0m\u001b[0;34m]\u001b[0m \u001b[0;34m=\u001b[0m \u001b[0mimage_xy\u001b[0m\u001b[0;34m[\u001b[0m\u001b[0;36m0\u001b[0m\u001b[0;34m]\u001b[0m \u001b[0;34m-\u001b[0m \u001b[0msource_xy\u001b[0m\u001b[0;34m[\u001b[0m\u001b[0;36m0\u001b[0m\u001b[0;34m]\u001b[0m\u001b[0;34m\u001b[0m\u001b[0m\n\u001b[1;32m    890\u001b[0m                 \u001b[0mself\u001b[0m\u001b[0;34m.\u001b[0m\u001b[0malphamat_y\u001b[0m\u001b[0;34m[\u001b[0m\u001b[0mxpix\u001b[0m\u001b[0;34m,\u001b[0m\u001b[0mypix\u001b[0m\u001b[0;34m]\u001b[0m \u001b[0;34m=\u001b[0m \u001b[0mimage_xy\u001b[0m\u001b[0;34m[\u001b[0m\u001b[0;36m1\u001b[0m\u001b[0;34m]\u001b[0m \u001b[0;34m-\u001b[0m \u001b[0msource_xy\u001b[0m\u001b[0;34m[\u001b[0m\u001b[0;36m1\u001b[0m\u001b[0;34m]\u001b[0m\u001b[0;34m\u001b[0m\u001b[0m\n",
      "\u001b[0;32m~/Documents/cosmo/interlopers/venv/lib/python3.5/site-packages/lenstronomy/LensModel/lens_model.py\u001b[0m in \u001b[0;36mray_shooting\u001b[0;34m(self, x, y, kwargs, k)\u001b[0m\n\u001b[1;32m     71\u001b[0m         \u001b[0;34m:\u001b[0m\u001b[0;32mreturn\u001b[0m\u001b[0;34m:\u001b[0m \u001b[0msource\u001b[0m \u001b[0mplane\u001b[0m \u001b[0mpositions\u001b[0m \u001b[0mcorresponding\u001b[0m \u001b[0mto\u001b[0m \u001b[0;34m(\u001b[0m\u001b[0mx\u001b[0m\u001b[0;34m,\u001b[0m \u001b[0my\u001b[0m\u001b[0;34m)\u001b[0m \u001b[0;32min\u001b[0m \u001b[0mthe\u001b[0m \u001b[0mimage\u001b[0m \u001b[0mplane\u001b[0m\u001b[0;34m\u001b[0m\u001b[0m\n\u001b[1;32m     72\u001b[0m         \"\"\"\n\u001b[0;32m---> 73\u001b[0;31m         \u001b[0;32mreturn\u001b[0m \u001b[0mself\u001b[0m\u001b[0;34m.\u001b[0m\u001b[0mlens_model\u001b[0m\u001b[0;34m.\u001b[0m\u001b[0mray_shooting\u001b[0m\u001b[0;34m(\u001b[0m\u001b[0mx\u001b[0m\u001b[0;34m,\u001b[0m \u001b[0my\u001b[0m\u001b[0;34m,\u001b[0m \u001b[0mkwargs\u001b[0m\u001b[0;34m,\u001b[0m \u001b[0mk\u001b[0m\u001b[0;34m=\u001b[0m\u001b[0mk\u001b[0m\u001b[0;34m)\u001b[0m\u001b[0;34m\u001b[0m\u001b[0m\n\u001b[0m\u001b[1;32m     74\u001b[0m \u001b[0;34m\u001b[0m\u001b[0m\n\u001b[1;32m     75\u001b[0m     \u001b[0;32mdef\u001b[0m \u001b[0mfermat_potential\u001b[0m\u001b[0;34m(\u001b[0m\u001b[0mself\u001b[0m\u001b[0;34m,\u001b[0m \u001b[0mx_image\u001b[0m\u001b[0;34m,\u001b[0m \u001b[0my_image\u001b[0m\u001b[0;34m,\u001b[0m \u001b[0mkwargs_lens\u001b[0m\u001b[0;34m,\u001b[0m \u001b[0mx_source\u001b[0m\u001b[0;34m=\u001b[0m\u001b[0;32mNone\u001b[0m\u001b[0;34m,\u001b[0m \u001b[0my_source\u001b[0m\u001b[0;34m=\u001b[0m\u001b[0;32mNone\u001b[0m\u001b[0;34m)\u001b[0m\u001b[0;34m:\u001b[0m\u001b[0;34m\u001b[0m\u001b[0m\n",
      "\u001b[0;32m~/Documents/cosmo/interlopers/venv/lib/python3.5/site-packages/lenstronomy/LensModel/multi_plane.py\u001b[0m in \u001b[0;36mray_shooting\u001b[0;34m(self, theta_x, theta_y, kwargs_lens, check_convention, k)\u001b[0m\n\u001b[1;32m     99\u001b[0m         x, y, _, _ = self._multi_plane_base.ray_shooting_partial(x, y, alpha_x, alpha_y, z_start=0, z_stop=self._z_source,\n\u001b[1;32m    100\u001b[0m                                                            \u001b[0mkwargs_lens\u001b[0m\u001b[0;34m=\u001b[0m\u001b[0mkwargs_lens\u001b[0m\u001b[0;34m,\u001b[0m \u001b[0mT_ij_start\u001b[0m\u001b[0;34m=\u001b[0m\u001b[0mself\u001b[0m\u001b[0;34m.\u001b[0m\u001b[0m_T_ij_start\u001b[0m\u001b[0;34m,\u001b[0m\u001b[0;34m\u001b[0m\u001b[0m\n\u001b[0;32m--> 101\u001b[0;31m                                                            T_ij_end=self._T_ij_stop)\n\u001b[0m\u001b[1;32m    102\u001b[0m         \u001b[0mbeta_x\u001b[0m\u001b[0;34m,\u001b[0m \u001b[0mbeta_y\u001b[0m \u001b[0;34m=\u001b[0m \u001b[0mself\u001b[0m\u001b[0;34m.\u001b[0m\u001b[0m_co_moving2angle_source\u001b[0m\u001b[0;34m(\u001b[0m\u001b[0mx\u001b[0m\u001b[0;34m,\u001b[0m \u001b[0my\u001b[0m\u001b[0;34m)\u001b[0m\u001b[0;34m\u001b[0m\u001b[0m\n\u001b[1;32m    103\u001b[0m         \u001b[0;32mreturn\u001b[0m \u001b[0mbeta_x\u001b[0m\u001b[0;34m,\u001b[0m \u001b[0mbeta_y\u001b[0m\u001b[0;34m\u001b[0m\u001b[0m\n",
      "\u001b[0;32m~/Documents/cosmo/interlopers/venv/lib/python3.5/site-packages/lenstronomy/LensModel/multi_plane_base.py\u001b[0m in \u001b[0;36mray_shooting_partial\u001b[0;34m(self, x, y, alpha_x, alpha_y, z_start, z_stop, kwargs_lens, include_z_start, T_ij_start, T_ij_end)\u001b[0m\n\u001b[1;32m    108\u001b[0m                     \u001b[0mdelta_T\u001b[0m \u001b[0;34m=\u001b[0m \u001b[0mself\u001b[0m\u001b[0;34m.\u001b[0m\u001b[0m_T_ij_list\u001b[0m\u001b[0;34m[\u001b[0m\u001b[0mi\u001b[0m\u001b[0;34m]\u001b[0m\u001b[0;34m\u001b[0m\u001b[0m\n\u001b[1;32m    109\u001b[0m                 \u001b[0mx\u001b[0m\u001b[0;34m,\u001b[0m \u001b[0my\u001b[0m \u001b[0;34m=\u001b[0m \u001b[0mself\u001b[0m\u001b[0;34m.\u001b[0m\u001b[0m_ray_step_add\u001b[0m\u001b[0;34m(\u001b[0m\u001b[0mx\u001b[0m\u001b[0;34m,\u001b[0m \u001b[0my\u001b[0m\u001b[0;34m,\u001b[0m \u001b[0malpha_x\u001b[0m\u001b[0;34m,\u001b[0m \u001b[0malpha_y\u001b[0m\u001b[0;34m,\u001b[0m \u001b[0mdelta_T\u001b[0m\u001b[0;34m)\u001b[0m\u001b[0;34m\u001b[0m\u001b[0m\n\u001b[0;32m--> 110\u001b[0;31m                 \u001b[0malpha_x\u001b[0m\u001b[0;34m,\u001b[0m \u001b[0malpha_y\u001b[0m \u001b[0;34m=\u001b[0m \u001b[0mself\u001b[0m\u001b[0;34m.\u001b[0m\u001b[0m_add_deflection\u001b[0m\u001b[0;34m(\u001b[0m\u001b[0mx\u001b[0m\u001b[0;34m,\u001b[0m \u001b[0my\u001b[0m\u001b[0;34m,\u001b[0m \u001b[0malpha_x\u001b[0m\u001b[0;34m,\u001b[0m \u001b[0malpha_y\u001b[0m\u001b[0;34m,\u001b[0m \u001b[0mkwargs_lens\u001b[0m\u001b[0;34m,\u001b[0m \u001b[0mi\u001b[0m\u001b[0;34m)\u001b[0m\u001b[0;34m\u001b[0m\u001b[0m\n\u001b[0m\u001b[1;32m    111\u001b[0m \u001b[0;34m\u001b[0m\u001b[0m\n\u001b[1;32m    112\u001b[0m                 \u001b[0mz_lens_last\u001b[0m \u001b[0;34m=\u001b[0m \u001b[0mz_lens\u001b[0m\u001b[0;34m\u001b[0m\u001b[0m\n",
      "\u001b[0;32m~/Documents/cosmo/interlopers/venv/lib/python3.5/site-packages/lenstronomy/LensModel/multi_plane_base.py\u001b[0m in \u001b[0;36m_add_deflection\u001b[0;34m(self, x, y, alpha_x, alpha_y, kwargs_lens, index)\u001b[0m\n\u001b[1;32m    405\u001b[0m         \u001b[0mtheta_x\u001b[0m\u001b[0;34m,\u001b[0m \u001b[0mtheta_y\u001b[0m \u001b[0;34m=\u001b[0m \u001b[0mself\u001b[0m\u001b[0;34m.\u001b[0m\u001b[0m_co_moving2angle\u001b[0m\u001b[0;34m(\u001b[0m\u001b[0mx\u001b[0m\u001b[0;34m,\u001b[0m \u001b[0my\u001b[0m\u001b[0;34m,\u001b[0m \u001b[0mindex\u001b[0m\u001b[0;34m)\u001b[0m\u001b[0;34m\u001b[0m\u001b[0m\n\u001b[1;32m    406\u001b[0m         \u001b[0mk\u001b[0m \u001b[0;34m=\u001b[0m \u001b[0mself\u001b[0m\u001b[0;34m.\u001b[0m\u001b[0m_sorted_redshift_index\u001b[0m\u001b[0;34m[\u001b[0m\u001b[0mindex\u001b[0m\u001b[0;34m]\u001b[0m\u001b[0;34m\u001b[0m\u001b[0m\n\u001b[0;32m--> 407\u001b[0;31m         \u001b[0malpha_x_red\u001b[0m\u001b[0;34m,\u001b[0m \u001b[0malpha_y_red\u001b[0m \u001b[0;34m=\u001b[0m \u001b[0mself\u001b[0m\u001b[0;34m.\u001b[0m\u001b[0mfunc_list\u001b[0m\u001b[0;34m[\u001b[0m\u001b[0mk\u001b[0m\u001b[0;34m]\u001b[0m\u001b[0;34m.\u001b[0m\u001b[0mderivatives\u001b[0m\u001b[0;34m(\u001b[0m\u001b[0mtheta_x\u001b[0m\u001b[0;34m,\u001b[0m \u001b[0mtheta_y\u001b[0m\u001b[0;34m,\u001b[0m \u001b[0;34m**\u001b[0m\u001b[0mkwargs_lens\u001b[0m\u001b[0;34m[\u001b[0m\u001b[0mk\u001b[0m\u001b[0;34m]\u001b[0m\u001b[0;34m)\u001b[0m\u001b[0;34m\u001b[0m\u001b[0m\n\u001b[0m\u001b[1;32m    408\u001b[0m         \u001b[0malpha_x_phys\u001b[0m \u001b[0;34m=\u001b[0m \u001b[0mself\u001b[0m\u001b[0;34m.\u001b[0m\u001b[0m_reduced2physical_deflection\u001b[0m\u001b[0;34m(\u001b[0m\u001b[0malpha_x_red\u001b[0m\u001b[0;34m,\u001b[0m \u001b[0mindex\u001b[0m\u001b[0;34m)\u001b[0m\u001b[0;34m\u001b[0m\u001b[0m\n\u001b[1;32m    409\u001b[0m         \u001b[0malpha_y_phys\u001b[0m \u001b[0;34m=\u001b[0m \u001b[0mself\u001b[0m\u001b[0;34m.\u001b[0m\u001b[0m_reduced2physical_deflection\u001b[0m\u001b[0;34m(\u001b[0m\u001b[0malpha_y_red\u001b[0m\u001b[0;34m,\u001b[0m \u001b[0mindex\u001b[0m\u001b[0;34m)\u001b[0m\u001b[0;34m\u001b[0m\u001b[0m\n",
      "\u001b[0;32m~/Documents/cosmo/interlopers/venv/lib/python3.5/site-packages/lenstronomy/LensModel/Profiles/tnfw.py\u001b[0m in \u001b[0;36mderivatives\u001b[0;34m(self, x, y, Rs, alpha_Rs, r_trunc, center_x, center_y)\u001b[0m\n\u001b[1;32m     94\u001b[0m         \u001b[0mx_\u001b[0m \u001b[0;34m=\u001b[0m \u001b[0mx\u001b[0m \u001b[0;34m-\u001b[0m \u001b[0mcenter_x\u001b[0m\u001b[0;34m\u001b[0m\u001b[0m\n\u001b[1;32m     95\u001b[0m         \u001b[0my_\u001b[0m \u001b[0;34m=\u001b[0m \u001b[0my\u001b[0m \u001b[0;34m-\u001b[0m \u001b[0mcenter_y\u001b[0m\u001b[0;34m\u001b[0m\u001b[0m\n\u001b[0;32m---> 96\u001b[0;31m         \u001b[0mR\u001b[0m \u001b[0;34m=\u001b[0m \u001b[0mnp\u001b[0m\u001b[0;34m.\u001b[0m\u001b[0msqrt\u001b[0m\u001b[0;34m(\u001b[0m\u001b[0mx_\u001b[0m \u001b[0;34m**\u001b[0m \u001b[0;36m2\u001b[0m \u001b[0;34m+\u001b[0m \u001b[0my_\u001b[0m \u001b[0;34m**\u001b[0m \u001b[0;36m2\u001b[0m\u001b[0;34m)\u001b[0m\u001b[0;34m\u001b[0m\u001b[0m\n\u001b[0m\u001b[1;32m     97\u001b[0m         \u001b[0mR\u001b[0m \u001b[0;34m=\u001b[0m \u001b[0mnp\u001b[0m\u001b[0;34m.\u001b[0m\u001b[0mmaximum\u001b[0m\u001b[0;34m(\u001b[0m\u001b[0mR\u001b[0m\u001b[0;34m,\u001b[0m \u001b[0mself\u001b[0m\u001b[0;34m.\u001b[0m\u001b[0m_s\u001b[0m \u001b[0;34m*\u001b[0m \u001b[0mRs\u001b[0m\u001b[0;34m)\u001b[0m\u001b[0;34m\u001b[0m\u001b[0m\n\u001b[1;32m     98\u001b[0m         \u001b[0mf_x\u001b[0m\u001b[0;34m,\u001b[0m \u001b[0mf_y\u001b[0m \u001b[0;34m=\u001b[0m \u001b[0mself\u001b[0m\u001b[0;34m.\u001b[0m\u001b[0mnfwAlpha\u001b[0m\u001b[0;34m(\u001b[0m\u001b[0mR\u001b[0m\u001b[0;34m,\u001b[0m \u001b[0mRs\u001b[0m\u001b[0;34m,\u001b[0m \u001b[0mrho0_input\u001b[0m\u001b[0;34m,\u001b[0m \u001b[0mr_trunc\u001b[0m\u001b[0;34m,\u001b[0m \u001b[0mx_\u001b[0m\u001b[0;34m,\u001b[0m \u001b[0my_\u001b[0m\u001b[0;34m)\u001b[0m\u001b[0;34m\u001b[0m\u001b[0m\n",
      "\u001b[0;31mKeyboardInterrupt\u001b[0m: "
     ]
    }
   ],
   "source": [
    "%%time\n",
    "myimg_sub.calc_div_curl();"
   ]
  },
  {
   "cell_type": "code",
   "execution_count": 21,
   "metadata": {},
   "outputs": [
    {
     "ename": "AttributeError",
     "evalue": "'CustomImage' object has no attribute 'divmat'",
     "output_type": "error",
     "traceback": [
      "\u001b[0;31m---------------------------------------------------------------------------\u001b[0m",
      "\u001b[0;31mAttributeError\u001b[0m                            Traceback (most recent call last)",
      "\u001b[0;32m<ipython-input-21-4181864e36a1>\u001b[0m in \u001b[0;36m<module>\u001b[0;34m\u001b[0m\n\u001b[0;32m----> 1\u001b[0;31m \u001b[0mautoshow\u001b[0m\u001b[0;34m(\u001b[0m\u001b[0mmyimg_sub\u001b[0m\u001b[0;34m.\u001b[0m\u001b[0mdivmat\u001b[0m \u001b[0;34m-\u001b[0m \u001b[0mblankimg\u001b[0m\u001b[0;34m.\u001b[0m\u001b[0mdivmat\u001b[0m\u001b[0;34m,\u001b[0m \u001b[0mext\u001b[0m\u001b[0;34m=\u001b[0m\u001b[0mext\u001b[0m\u001b[0;34m,\u001b[0m \u001b[0mvmax\u001b[0m\u001b[0;34m=\u001b[0m\u001b[0;36m.09\u001b[0m\u001b[0;34m)\u001b[0m\u001b[0;34m\u001b[0m\u001b[0m\n\u001b[0m\u001b[1;32m      2\u001b[0m \u001b[0mplt\u001b[0m\u001b[0;34m.\u001b[0m\u001b[0mtitle\u001b[0m\u001b[0;34m(\u001b[0m\u001b[0;34mr'$\\kappa_{sub}$ (single plane, CDM)'\u001b[0m\u001b[0;34m)\u001b[0m\u001b[0;34m\u001b[0m\u001b[0m\n\u001b[1;32m      3\u001b[0m \u001b[0;31m#plt.savefig('imgs/feb11_subs_only_r1e-4adj.png')\u001b[0m\u001b[0;34m\u001b[0m\u001b[0;34m\u001b[0m\u001b[0m\n",
      "\u001b[0;31mAttributeError\u001b[0m: 'CustomImage' object has no attribute 'divmat'"
     ]
    }
   ],
   "source": [
    "autoshow(myimg_sub.divmat - blankimg.divmat, ext=ext, vmax=.09)\n",
    "plt.title(r'$\\kappa_{sub}$ (single plane, CDM)')\n",
    "#plt.savefig('imgs/feb11_subs_only_r1e-4adj.png')"
   ]
  },
  {
   "cell_type": "markdown",
   "metadata": {},
   "source": [
    "### Next, try projection map"
   ]
  },
  {
   "cell_type": "code",
   "execution_count": 22,
   "metadata": {},
   "outputs": [
    {
     "name": "stdout",
     "output_type": "stream",
     "text": [
      "number of interlopers 128\n",
      "number of interlopers + subhalos 274\n"
     ]
    }
   ],
   "source": [
    "# Populate the interlopers in projection (middle picture in Fig 2 of Birrer's paper)\n",
    "\n",
    "np.random.seed(145)\n",
    "n_planes = 10\n",
    "\n",
    "xs, ys, redshifts, masses = [], [], [], []\n",
    "mass_sheets = []\n",
    "#xyext = ext\n",
    "\n",
    "# Interlopers!\n",
    "z_planes = np.linspace(.01,.99,n_planes)\n",
    "area_proportions = [double_cone(z)**2 for z in z_planes]\n",
    "area_sum = np.sum(area_proportions)\n",
    "\n",
    "for i, z_plane in enumerate(z_planes):\n",
    "    rv_nums = poisson.rvs(avg_nums_interlopers * area_proportions[i] / area_sum)\n",
    "    xyext = ext # * double_cone_angle(z_plane)\n",
    "    # ^- I thought about multiplying this by 1.5 so we don't get weird boundary effects\n",
    "    #print(rv_nums)\n",
    "    for mass, num in zip(mass_bins_interlopers, rv_nums):\n",
    "        for i in range(num):\n",
    "            xs.append(np.random.uniform(-xyext,xyext))\n",
    "            ys.append(np.random.uniform(-xyext,xyext))\n",
    "            redshifts.append(zl)\n",
    "            masses.append(mass)\n",
    "            mass_sheets.append(True)\n",
    "print('number of interlopers', len(xs))\n",
    "\n",
    "# Subhalos!\n",
    "rv_nums = poisson.rvs(avg_nums_sub) if len(avg_nums_sub) > 1 else [poisson.rvs(avg_nums_sub)]\n",
    "xyext = ext\n",
    "for mass, num in zip(mass_bins_sub, rv_nums):\n",
    "    for i in range(num):\n",
    "        xs.append(np.random.uniform(-xyext,xyext))\n",
    "        ys.append(np.random.uniform(-xyext,xyext))\n",
    "        redshifts.append(zl)\n",
    "        masses.append(mass)\n",
    "        mass_sheets.append(False)\n",
    "print('number of interlopers + subhalos', len(xs))"
   ]
  },
  {
   "cell_type": "code",
   "execution_count": 23,
   "metadata": {},
   "outputs": [
    {
     "name": "stdout",
     "output_type": "stream",
     "text": [
      "new result of alpha_rs is 1.2135229034175085e-05\n",
      "old result would have been 0.00036458788397843606\n",
      "showing work\n",
      "z 0.5 m 394193194.8044429\n",
      "area_com 212.27748797124022\n",
      "area 94.34555020944009\n",
      "sig 4178185.3402663227\n"
     ]
    }
   ],
   "source": [
    "myimg_proj = CustomImage(xs,ys,redshifts, zl=zl, m=masses, pixnum=pixnum, pixsize=pixsize, mass_sheets=mass_sheets)"
   ]
  },
  {
   "cell_type": "code",
   "execution_count": 24,
   "metadata": {},
   "outputs": [
    {
     "name": "stdout",
     "output_type": "stream",
     "text": [
      "CPU times: user 7min 38s, sys: 12 ms, total: 7min 38s\n",
      "Wall time: 7min 38s\n"
     ]
    },
    {
     "data": {
      "text/plain": [
       "(array([[0.19098162, 0.19101786, 0.19190305, ..., 0.37015766, 0.36869107,\n",
       "         0.3685223 ],\n",
       "        [0.19190477, 0.19184543, 0.19266056, ..., 0.37099161, 0.36948834,\n",
       "         0.36929701],\n",
       "        [0.19446733, 0.19481801, 0.19458809, ..., 0.37332227, 0.37177377,\n",
       "         0.37155066],\n",
       "        ...,\n",
       "        [0.37225814, 0.37254858, 0.37416639, ..., 0.19624215, 0.19529751,\n",
       "         0.19508931],\n",
       "        [0.37002201, 0.37028159, 0.37185289, ..., 0.19506813, 0.19413554,\n",
       "         0.19393702],\n",
       "        [0.36928999, 0.3695273 , 0.37106262, ..., 0.19470827, 0.19378421,\n",
       "         0.19359169]]),\n",
       " array([[-2.63461231e-04, -2.76014604e-04, -1.98035147e-04, ...,\n",
       "          6.15612136e-04,  5.94737741e-04,  2.15661727e-04],\n",
       "        [ 1.36907118e-05,  3.75584501e-05,  6.53291409e-05, ...,\n",
       "          2.19906639e-06,  1.78376938e-06, -3.77435212e-04],\n",
       "        [ 3.03833578e-04,  7.77948205e-05, -1.34310979e-04, ...,\n",
       "          1.90273423e-06,  1.47232627e-06, -3.98652545e-04],\n",
       "        ...,\n",
       "        [-4.21833157e-04,  2.85771785e-06,  6.80757055e-07, ...,\n",
       "          5.13291416e-07,  5.66197214e-07,  2.44282498e-04],\n",
       "        [-4.05377499e-04,  1.95767321e-06,  7.39401602e-07, ...,\n",
       "          3.66862603e-07,  4.26991026e-07,  2.36695589e-04],\n",
       "        [ 1.49193693e-04,  5.56338367e-04,  5.72325049e-04, ...,\n",
       "         -2.83571810e-04, -2.75842575e-04, -3.95034167e-05]]))"
      ]
     },
     "execution_count": 24,
     "metadata": {},
     "output_type": "execute_result"
    }
   ],
   "source": [
    "%%time\n",
    "myimg_proj.calc_div_curl();"
   ]
  },
  {
   "cell_type": "code",
   "execution_count": 26,
   "metadata": {},
   "outputs": [
    {
     "data": {
      "image/png": "[encoded data removed]",
      "text/plain": [
       "<Figure size 432x288 with 2 Axes>"
      ]
     },
     "metadata": {
      "needs_background": "light"
     },
     "output_type": "display_data"
    }
   ],
   "source": [
    "autoshow(myimg_proj.divmat-blankimg.divmat, ext=ext, vmax=.08)\n",
    "#plt.title(r'$\\kappa_{sub}$ (multi-plane Born)')\n",
    "#plt.savefig('imgs/feb11_mpborn_orig.png')"
   ]
  },
  {
   "cell_type": "code",
   "execution_count": 30,
   "metadata": {},
   "outputs": [],
   "source": [
    "#autoshow(myimg_proj.divmat-blankimg.divmat - .002, ext=ext, vmax=.08)\n",
    "#plt.title(r'$\\kappa_{sub}$ (multi-plane Born) + more mass sheet')\n",
    "#plt.savefig('imgs/feb11_mpborn_offset.png')"
   ]
  },
  {
   "cell_type": "code",
   "execution_count": 33,
   "metadata": {},
   "outputs": [
    {
     "data": {
      "text/plain": [
       "Text(0.5, 1.0, '$\\\\kappa_{sub}$ (multi-plane Born): High Contrast')"
      ]
     },
     "execution_count": 33,
     "metadata": {},
     "output_type": "execute_result"
    },
    {
     "data": {
      "image/png": "[encoded data removed]",
      "text/plain": [
       "<Figure size 432x288 with 2 Axes>"
      ]
     },
     "metadata": {
      "needs_background": "light"
     },
     "output_type": "display_data"
    }
   ],
   "source": [
    "autoshow(myimg_proj.divmat-blankimg.divmat, vmax=.02)\n",
    "plt.title(r'$\\kappa_{sub}$ (multi-plane Born): High Contrast')"
   ]
  },
  {
   "cell_type": "markdown",
   "metadata": {},
   "source": [
    "### Finally, the actual image:"
   ]
  },
  {
   "cell_type": "code",
   "execution_count": 34,
   "metadata": {},
   "outputs": [
    {
     "name": "stdout",
     "output_type": "stream",
     "text": [
      "number of interlopers 128\n",
      "number of subhalos + interlopers 274\n"
     ]
    }
   ],
   "source": [
    "# Populate the interlopers and subhalos\n",
    "\n",
    "np.random.seed(145)\n",
    "n_planes = 10\n",
    "\n",
    "xs, ys, redshifts, masses = [], [], [], []\n",
    "mass_sheets = []\n",
    "#xyext = ext\n",
    "\n",
    "z_planes = np.linspace(.01,.99,n_planes)\n",
    "area_proportions = [double_cone(z)**2 for z in z_planes]\n",
    "area_sum = np.sum(area_proportions)\n",
    "\n",
    "# Interlopers\n",
    "for i, z_plane in enumerate(z_planes):\n",
    "    rv_nums = poisson.rvs(avg_nums_interlopers * area_proportions[i] / area_sum)\n",
    "    xyext = ext * double_cone_angle(z_plane)\n",
    "    # ^- I thought about multiplying this by 1.5 so we don't get weird boundary effects\n",
    "    #print(rv_nums)\n",
    "    for mass, num in zip(mass_bins_interlopers, rv_nums):\n",
    "        for i in range(num):\n",
    "            xs.append(np.random.uniform(-xyext,xyext))\n",
    "            ys.append(np.random.uniform(-xyext,xyext))\n",
    "            redshifts.append(z_plane)\n",
    "            masses.append(mass)\n",
    "            mass_sheets.append(True)\n",
    "print('number of interlopers', len(xs))\n",
    "# Subhalos\n",
    "rv_nums = poisson.rvs(avg_nums_sub) if len(avg_nums_sub) > 1 else [poisson.rvs(avg_nums_sub)]\n",
    "xyext = ext\n",
    "for mass, num in zip(mass_bins_sub, rv_nums):\n",
    "    for i in range(num):\n",
    "        xs.append(np.random.uniform(-xyext,xyext))\n",
    "        ys.append(np.random.uniform(-xyext,xyext))\n",
    "        redshifts.append(zl)\n",
    "        masses.append(mass)\n",
    "        mass_sheets.append(False)\n",
    "print('number of subhalos + interlopers', len(xs))"
   ]
  },
  {
   "cell_type": "code",
   "execution_count": 35,
   "metadata": {},
   "outputs": [
    {
     "name": "stdout",
     "output_type": "stream",
     "text": [
      "new result of alpha_rs is 2.4174270088518478e-05\n",
      "old result would have been 0.000256368065661692\n",
      "showing work\n",
      "z 0.11888888888888888 m 5635529.482210107\n",
      "area_com 14.716615651173662\n",
      "area 11.755308350435401\n",
      "sig 479402.9483710969\n",
      "showing work\n",
      "z 0.22777777777777777 m 36070177.18249221\n",
      "area_com 51.06652981948139\n",
      "area 33.87636547472814\n",
      "sig 1064759.3588338355\n",
      "showing work\n",
      "z 0.33666666666666667 m 31307240.725124277\n",
      "area_com 105.25631004048202\n",
      "area 58.9117474620393\n",
      "sig 531426.1089487727\n",
      "showing work\n",
      "z 0.44555555555555554 m 59492199.66627707\n",
      "area_com 173.70729607503418\n",
      "area 83.12822089835568\n",
      "sig 715667.9046339829\n",
      "showing work\n",
      "z 0.5 m 0\n",
      "area_com 212.27748797124022\n",
      "area 94.34555020944009\n",
      "sig 0.0\n",
      "showing work\n",
      "z 0.5544444444444444 m 207330190.3306454\n",
      "area_com 162.7931319617484\n",
      "area 67.3729662354639\n",
      "sig 3077349.8914392544\n",
      "showing work\n",
      "z 0.6633333333333333 m 24546866.86334952\n",
      "area_com 86.74752432787575\n",
      "area 31.354400944208326\n",
      "sig 782884.2562493202\n",
      "showing work\n",
      "z 0.7722222222222221 m 29309803.320717447\n",
      "area_com 37.10093842406125\n",
      "area 11.812682706926863\n",
      "sig 2481214.81359441\n",
      "showing work\n",
      "z 0.8811111111111111 m 501187.2336272725\n",
      "area_com 9.456218032435363\n",
      "area 2.6723207251961165\n",
      "sig 187547.5607780916\n"
     ]
    }
   ],
   "source": [
    "myimg = CustomImage(xs, ys, redshifts, zl=zl, m=masses, pixnum=pixnum, pixsize=pixsize, mass_sheets=mass_sheets, main_theta=1.0)"
   ]
  },
  {
   "cell_type": "code",
   "execution_count": 36,
   "metadata": {},
   "outputs": [
    {
     "name": "stdout",
     "output_type": "stream",
     "text": [
      "CPU times: user 8min 5s, sys: 12 ms, total: 8min 5s\n",
      "Wall time: 8min 5s\n"
     ]
    },
    {
     "data": {
      "text/plain": [
       "0"
      ]
     },
     "execution_count": 36,
     "metadata": {},
     "output_type": "execute_result"
    }
   ],
   "source": [
    "%%time\n",
    "myimg.calc_div_curl()\n",
    "0"
   ]
  },
  {
   "cell_type": "code",
   "execution_count": 37,
   "metadata": {},
   "outputs": [],
   "source": [
    "blankimg = CustomImage([], [], [], zl=zl, m=[], pixnum=pixnum, pixsize=pixsize, mass_sheets=[], main_theta=1.0)\n",
    "blankimg.calc_div_curl();"
   ]
  },
  {
   "cell_type": "code",
   "execution_count": 43,
   "metadata": {},
   "outputs": [
    {
     "data": {
      "text/plain": [
       "Text(0.5, 1.0, '$\\\\kappa_\\\\mathrm{eff}$ (theta=1)')"
      ]
     },
     "execution_count": 43,
     "metadata": {},
     "output_type": "execute_result"
    },
    {
     "data": {
      "image/png": "[encoded data removed]",
      "text/plain": [
       "<Figure size 432x288 with 2 Axes>"
      ]
     },
     "metadata": {
      "needs_background": "light"
     },
     "output_type": "display_data"
    }
   ],
   "source": [
    "autoshow(myimg.divmat - blankimg.divmat, ext=ext, vmax=.08)\n",
    "plt.title(r'$\\kappa_\\mathrm{eff}$ (theta=1)')\n",
    "#plt.savefig('imgs/feb11_final_theta1.png')"
   ]
  },
  {
   "cell_type": "code",
   "execution_count": 44,
   "metadata": {},
   "outputs": [],
   "source": [
    "# np.save('files/full_alpha.npy', [myimg.alphamat_x, myimg.alphamat_y])\n",
    "\n",
    "# np.save('files/macro_alpha.npy', [blankimg.alphamat_x, blankimg.alphamat_y])\n",
    "\n",
    "# np.save('files/diff_alpha.npy', [myimg.alphamat_x - blankimg.alphamat_x, myimg.alphamat_y - blankimg.alphamat_y])"
   ]
  },
  {
   "cell_type": "code",
   "execution_count": 41,
   "metadata": {},
   "outputs": [],
   "source": [
    "# autoshow(myimg.divmat - blankimg.divmat - .003, ext=ext, vmax=.08)\n",
    "# plt.title(r'$\\kappa_\\mathrm{eff}$ (theta=1) + offset')\n",
    "# plt.savefig('imgs/feb11_final_theta1_offset.png')"
   ]
  },
  {
   "cell_type": "code",
   "execution_count": null,
   "metadata": {},
   "outputs": [],
   "source": []
  },
  {
   "cell_type": "markdown",
   "metadata": {},
   "source": [
    "---"
   ]
  },
  {
   "cell_type": "code",
   "execution_count": null,
   "metadata": {},
   "outputs": [],
   "source": [
    "autoshow(myimg.image)"
   ]
  },
  {
   "cell_type": "code",
   "execution_count": null,
   "metadata": {},
   "outputs": [],
   "source": [
    "autoshow(myimg.image - blankimg.image, vmax=5)"
   ]
  },
  {
   "cell_type": "code",
   "execution_count": null,
   "metadata": {},
   "outputs": [],
   "source": [
    "flat_redshifts = [zl] * len(xs)\n",
    "flatimg = CustomImage(xs, ys, flat_redshifts, zl=zl, m=masses, pixnum=pixnum, pixsize=pixsize)"
   ]
  },
  {
   "cell_type": "code",
   "execution_count": null,
   "metadata": {},
   "outputs": [],
   "source": [
    "autoshow(flatimg.image - blankimg.image)"
   ]
  },
  {
   "cell_type": "code",
   "execution_count": null,
   "metadata": {},
   "outputs": [],
   "source": [
    "# vmin = np.min(myimg.image - blankimg.image)\n",
    "# vmax = np.max(myimg.image - blankimg.image)\n",
    "# vmin = min(vmin, -vmax)\n",
    "# vmax = max(vmax, -vmin)\n",
    "\n",
    "# plt.imshow(myimg.image - blankimg.image, vmin=vmin, vmax=vmax, cmap='seismic')\n",
    "# plt.colorbar()\n",
    "# plt.scatter([myimg.x_to_pix(x,z) for x,z in zip(xs, redshifts)],\n",
    "#             [myimg.x_to_pix(y,z) for y,z in zip(ys, redshifts)], color='black', marker='+', label='interloper/subhalo')\n",
    "# plt.scatter([myimg.x_to_pix(0)], [myimg.x_to_pix(0)], color='black', label='main lens')\n",
    "\n",
    "# leg = plt.legend()\n",
    "# #leg.get_frame().set_linewidth(3)\n",
    "# leg.get_frame().set_edgecolor('k')\n",
    "\n",
    "# plt.title('Pixel residual from substructure', size=16)\n",
    "\n",
    "# #plt.savefig('imgs/jan26_sample_residuals.pdf')\n",
    "\n",
    "# plt.show()"
   ]
  },
  {
   "cell_type": "code",
   "execution_count": null,
   "metadata": {},
   "outputs": [],
   "source": [
    "# myimg.lens_model_mp.ray_shooting(0,0,myimg.kwargs_lens)\n",
    "# myimg.lens_model_mp.ray_shooting(-10,0,myimg.kwargs_lens)\n",
    "# myimg.pixel_grid.map_pix2coord(140, 0)\n",
    "\n",
    "# alphamat_x = np.zeros((myimg.pixnum, myimg.pixnum))\n",
    "# alphamat_y = np.zeros((myimg.pixnum, myimg.pixnum))\n",
    "# alphamat_mag = np.zeros((myimg.pixnum, myimg.pixnum))\n",
    "# for xpix in range(myimg.pixnum):\n",
    "#     for ypix in range(myimg.pixnum):\n",
    "#         image_xy = myimg.pixel_grid.map_pix2coord(xpix, ypix) # in angle units\n",
    "#         source_xy = myimg.lens_model_mp.ray_shooting(image_xy[0], image_xy[1], myimg.kwargs_lens)\n",
    "#         alphamat_x[xpix,ypix] = image_xy[0] - source_xy[0]\n",
    "#         alphamat_y[xpix,ypix] = image_xy[1] - source_xy[1]\n",
    "#         alphatmat_mag = np.sqrt(alphamat_x[xpix,ypix]**2 + alphamat_y[xpix,ypix]**2)\n",
    "\n",
    "# divmat = np.gradient(alphamat_x, myimg.pixsize)[0] + np.gradient(alphamat_y, myimg.pixsize)[1]\n",
    "# curlmat = np.gradient(alphamat_y, myimg.pixsize)[0] - np.gradient(alphamat_x, myimg.pixsize)[1]"
   ]
  },
  {
   "cell_type": "code",
   "execution_count": null,
   "metadata": {},
   "outputs": [],
   "source": [
    "divmat, curlmat = myimg.calc_div_curl();"
   ]
  },
  {
   "cell_type": "code",
   "execution_count": null,
   "metadata": {},
   "outputs": [],
   "source": [
    "divmat_blank, curlmat_blank = blankimg.calc_div_curl();"
   ]
  },
  {
   "cell_type": "code",
   "execution_count": null,
   "metadata": {},
   "outputs": [],
   "source": [
    "divmat_flat, curlmat_flat = flatimg.calc_div_curl();"
   ]
  },
  {
   "cell_type": "code",
   "execution_count": null,
   "metadata": {},
   "outputs": [],
   "source": [
    "np.sum(divmat) - np.sum(divmat_blank)"
   ]
  },
  {
   "cell_type": "code",
   "execution_count": null,
   "metadata": {},
   "outputs": [],
   "source": [
    "np.sum(divmat) - np.sum(divmat_blank)"
   ]
  },
  {
   "cell_type": "code",
   "execution_count": null,
   "metadata": {},
   "outputs": [],
   "source": [
    "np.sum(divmat_flat) - np.sum(divmat_blank)"
   ]
  },
  {
   "cell_type": "code",
   "execution_count": null,
   "metadata": {},
   "outputs": [],
   "source": [
    "autoshow(divmat, ext=ext)"
   ]
  },
  {
   "cell_type": "code",
   "execution_count": null,
   "metadata": {},
   "outputs": [],
   "source": [
    "autoshow(divmat - divmat_blank, vmax=3, ext=ext)"
   ]
  },
  {
   "cell_type": "code",
   "execution_count": null,
   "metadata": {},
   "outputs": [],
   "source": [
    "autoshow(divmat - divmat_blank, vmax=3, ext=ext)\n",
    "#plt.savefig('imgs/feb10_nosub_theta.3.png')"
   ]
  },
  {
   "cell_type": "code",
   "execution_count": null,
   "metadata": {},
   "outputs": [],
   "source": []
  },
  {
   "cell_type": "code",
   "execution_count": null,
   "metadata": {},
   "outputs": [],
   "source": []
  },
  {
   "cell_type": "code",
   "execution_count": null,
   "metadata": {},
   "outputs": [],
   "source": []
  },
  {
   "cell_type": "code",
   "execution_count": null,
   "metadata": {},
   "outputs": [],
   "source": [
    "autoshow(divmat - divmat_blank, vmax=.04, ext=ext)\n",
    "#plt.savefig('imgs/feb4_nosub_theta.3.png')\n",
    "# this particular picture showing right now (maybe not when you restart the kernel) is with mass sheets but no subhalos"
   ]
  },
  {
   "cell_type": "code",
   "execution_count": null,
   "metadata": {},
   "outputs": [],
   "source": [
    "autoshow(divmat_flat - divmat_blank, vmax=None)"
   ]
  },
  {
   "cell_type": "code",
   "execution_count": null,
   "metadata": {},
   "outputs": [],
   "source": [
    "autoshow(curlmat - curlmat_blank, vmax=.001)"
   ]
  },
  {
   "cell_type": "code",
   "execution_count": null,
   "metadata": {},
   "outputs": [],
   "source": [
    "image = (divmat - divmat_blank).T\n",
    "outer_image = image.copy()\n",
    "for xpix in range(myimg.pixnum//2 - 2, myimg.pixnum//2 + 2):\n",
    "    for ypix in range(myimg.pixnum//2 - 2, myimg.pixnum//2 + 2):\n",
    "        outer_image[xpix,ypix] = 0\n",
    "autoshow(image, ext=ext)\n",
    "plt.show()\n",
    "autoshow(outer_image, ext=ext)"
   ]
  },
  {
   "cell_type": "code",
   "execution_count": null,
   "metadata": {},
   "outputs": [],
   "source": [
    "vmax = .08\n",
    "plt.imshow(outer_image, vmin=-vmax, vmax=vmax, cmap='seismic', extent=[-ext,ext,ext,-ext])\n",
    "plt.colorbar()"
   ]
  },
  {
   "cell_type": "code",
   "execution_count": null,
   "metadata": {},
   "outputs": [],
   "source": [
    "plt.imshow(np.log10(outer_image), cmap='inferno')\n",
    "plt.imshow(np.log10(-outer_image), cmap='viridis')"
   ]
  },
  {
   "cell_type": "code",
   "execution_count": null,
   "metadata": {},
   "outputs": [],
   "source": [
    "#np.save('files/myimg_247interlopers.npy', myimg)"
   ]
  },
  {
   "cell_type": "code",
   "execution_count": null,
   "metadata": {},
   "outputs": [],
   "source": [
    "# image_flat = (divmat_flat - divmat_blank).T\n",
    "# autoshow(image_flat, ext=ext)"
   ]
  },
  {
   "cell_type": "code",
   "execution_count": null,
   "metadata": {},
   "outputs": [],
   "source": [
    "#np.save('files/myimg247.npy', myimg)\n",
    "#np.save('files/flatimg247.npy', flatimg)"
   ]
  },
  {
   "cell_type": "markdown",
   "metadata": {},
   "source": [
    "## Fourier transform"
   ]
  },
  {
   "cell_type": "code",
   "execution_count": null,
   "metadata": {},
   "outputs": [],
   "source": [
    "# np.save('files/outer_image71.npy', image)"
   ]
  },
  {
   "cell_type": "code",
   "execution_count": null,
   "metadata": {},
   "outputs": [],
   "source": [
    "# np.save('files/outer_imageflat71.npy', image_flat)"
   ]
  },
  {
   "cell_type": "code",
   "execution_count": null,
   "metadata": {},
   "outputs": [],
   "source": [
    "image_width_kpc"
   ]
  },
  {
   "cell_type": "markdown",
   "metadata": {},
   "source": [
    "Why does `side` have to be an integer? It is the length of the image in kpc."
   ]
  },
  {
   "cell_type": "code",
   "execution_count": null,
   "metadata": {},
   "outputs": [],
   "source": [
    "!python2 make_mask.py --pix_num=200 --side=7"
   ]
  },
  {
   "cell_type": "code",
   "execution_count": null,
   "metadata": {},
   "outputs": [],
   "source": [
    "!python2 power_spectrum.py \\\n",
    "--conv_file1 files/outer_imageflat71.npy \\\n",
    "--kdir files/ \\\n",
    "--psdir files/ \\\n",
    "--pix_num 200 \\\n",
    "--side 7 \\\n",
    "--name testDM \\\n",
    "# --z 0.2 \\\n",
    "# --m_high 1e-2 \\\n",
    "# --m_low 1e-4 \\\n",
    "--num_proj 1 \\\n",
    "--sigma_crit 3.14e9"
   ]
  },
  {
   "cell_type": "code",
   "execution_count": null,
   "metadata": {},
   "outputs": [],
   "source": [
    "klist = np.loadtxt('files/ktestDM_095_200_7.txt')\n",
    "plist = np.load('files/ind_curves_testDM_095_200_7.npy')"
   ]
  },
  {
   "cell_type": "code",
   "execution_count": null,
   "metadata": {},
   "outputs": [],
   "source": [
    "plt.loglog(klist, plist[0])\n",
    "plt.xlabel(r'$k$ (1/kpc)')\n",
    "plt.ylabel(r'Power (kpc^2)')"
   ]
  },
  {
   "cell_type": "markdown",
   "metadata": {},
   "source": [
    "# Old cells"
   ]
  },
  {
   "cell_type": "code",
   "execution_count": null,
   "metadata": {},
   "outputs": [],
   "source": [
    "fig, axs = plt.subplots(1,3, figsize=(10,4))\n",
    "\n",
    "ratio = 1e5\n",
    "# check that title is correctly set to the ratio\n",
    "\n",
    "#vmin = min(np.min(divmat), np.min(divmat_blank), ratio*np.min(divmat-divmat_blank))\n",
    "#vmax = max(np.max(divmat), np.max(divmat_blank), ratio*np.max(divmat-divmat_blank))\n",
    "vmax=8000\n",
    "vmin = -vmax\n",
    "\n",
    "ext = 0.5*myimg.pixnum*myimg.pixsize\n",
    "\n",
    "im = axs[0].imshow(divmat.T, vmin=vmin, vmax=vmax, extent=[-ext,ext,ext,-ext], cmap='seismic')\n",
    "axs[0].set_title('Macro + substructure')\n",
    "axs[1].imshow(divmat_blank.T, vmin=vmin, vmax=vmax, extent=[-ext,ext,ext,-ext], cmap='seismic')\n",
    "axs[1].set_title('Macro only')\n",
    "im2 = axs[2].imshow(ratio*(divmat-divmat_blank).T, \n",
    "              vmin=vmin, vmax=vmax,\n",
    "              extent=[-ext,ext,ext,-ext], cmap='seismic')\n",
    "axs[2].set_title('Difference $\\\\times 10^5$')\n",
    "\n",
    "plt.colorbar(im, ax=axs.ravel().tolist())\n",
    "\n",
    "fig.suptitle(r'$\\nabla\\cdot\\vec\\alpha$ (500 interlopers of mass $10^7\\, M_\\odot$)', size=20)\n",
    "\n",
    "#plt.savefig('imgs/jan30_sample500_scaled.png')\n",
    "plt.show()"
   ]
  },
  {
   "cell_type": "code",
   "execution_count": null,
   "metadata": {},
   "outputs": [],
   "source": [
    "plt.imshow(np.log10(0.5*divmat_blank.T), extent=[-ext,ext,ext,-ext], cmap='inferno')\n",
    "plt.colorbar()\n",
    "plt.title(r'$\\log_{10}$ convergence')\n",
    "plt.tight_layout()\n",
    "plt.savefig('imgs/jan30_logmacro.png')"
   ]
  },
  {
   "cell_type": "code",
   "execution_count": null,
   "metadata": {},
   "outputs": [],
   "source": [
    "fig, axs = plt.subplots(1,3, figsize=(10,4))\n",
    "\n",
    "vmin = -1e-4#min(np.min(curlmat), np.min(curlmat_blank))\n",
    "vmax = 1e-4#max(np.max(curlmat), np.max(curlmat_blank))\n",
    "\n",
    "ext = 0.5*myimg.pixnum*myimg.pixsize\n",
    "\n",
    "im = axs[0].imshow(curlmat.T, vmin=vmin, vmax=vmax, extent=[-ext,ext,ext,-ext],cmap='seismic')\n",
    "axs[0].set_title('Macro + substructure')\n",
    "axs[1].imshow(curlmat_blank.T, vmin=vmin, vmax=vmax, extent=[-ext,ext,ext,-ext],cmap='seismic')\n",
    "axs[1].set_title('Macro only')\n",
    "axs[2].imshow((curlmat-curlmat_blank).T, vmin=vmin, vmax=vmax, extent=[-ext,ext,ext,-ext],cmap='seismic')\n",
    "axs[2].set_title('Difference')\n",
    "plt.colorbar(im, ax=axs.ravel().tolist())\n",
    "\n",
    "fig.suptitle(r'$\\nabla\\times\\vec\\alpha$ (200x200 pixels)', size=20)\n",
    "\n",
    "#plt.savefig('imgs/jan27_sample20_curls.png')\n",
    "\n",
    "plt.show()"
   ]
  },
  {
   "cell_type": "markdown",
   "metadata": {},
   "source": [
    "## Test if curl pattern is a numerical error"
   ]
  },
  {
   "cell_type": "code",
   "execution_count": null,
   "metadata": {},
   "outputs": [],
   "source": [
    "blankimg2 = CustomImage([],[],[], zl=zl,              pixnum=400, pixsize=.004)\n",
    "\n",
    "myimg2 = CustomImage(xs, ys, redshifts, zl=zl, m=1e7, pixnum=400, pixsize=.004)\n",
    "\n",
    "vmin = np.min(myimg2.image - blankimg2.image)\n",
    "vmax = np.max(myimg2.image - blankimg2.image)\n",
    "vmin = min(vmin, -vmax)\n",
    "vmax = max(vmax, -vmin)\n",
    "\n",
    "plt.imshow(myimg2.image - blankimg2.image, vmin=vmin, vmax=vmax, cmap='seismic')\n",
    "plt.colorbar()\n",
    "plt.scatter([myimg2.x_to_pix(x,z) for x,z in zip(xs, redshifts)],\n",
    "            [myimg2.x_to_pix(y,z) for y,z in zip(ys, redshifts)], color='black', marker='+', label='interloper/subhalo')\n",
    "plt.scatter([myimg2.x_to_pix(0)], [myimg2.x_to_pix(0)], color='black', label='main lens')\n",
    "\n",
    "leg = plt.legend()\n",
    "#leg.get_frame().set_linewidth(3)\n",
    "leg.get_frame().set_edgecolor('k')\n",
    "\n",
    "plt.title('Pixel residual from substructure', size=16)\n",
    "\n",
    "#plt.savefig('imgs/jan26_sample_residuals.pdf')\n",
    "\n",
    "plt.show()"
   ]
  },
  {
   "cell_type": "code",
   "execution_count": null,
   "metadata": {},
   "outputs": [],
   "source": [
    "divmat2, curlmat2 = myimg2.calc_div_curl()\n",
    "divmat2_blank, curlmat2_blank = blankimg2.calc_div_curl()"
   ]
  },
  {
   "cell_type": "code",
   "execution_count": null,
   "metadata": {},
   "outputs": [],
   "source": [
    "fig, axs = plt.subplots(1,3, figsize=(10,4))\n",
    "\n",
    "ratio = 1e5\n",
    "# check that title is correctly set to the ratio\n",
    "\n",
    "#vmin = min(np.min(divmat), np.min(divmat_blank), ratio*np.min(divmat-divmat_blank))\n",
    "#vmax = max(np.max(divmat), np.max(divmat_blank), ratio*np.max(divmat-divmat_blank))\n",
    "vmax=100\n",
    "vmin = -vmax\n",
    "\n",
    "ext = 0.5*myimg.pixnum*myimg.pixsize\n",
    "\n",
    "im = axs[0].imshow(divmat2.T, vmin=vmin, vmax=vmax, extent=[-ext,ext,ext,-ext], cmap='seismic')\n",
    "axs[0].set_title('Macro + substructure')\n",
    "axs[1].imshow(divmat2_blank.T, vmin=vmin, vmax=vmax, extent=[-ext,ext,ext,-ext], cmap='seismic')\n",
    "axs[1].set_title('Macro only')\n",
    "im2 = axs[2].imshow(ratio*(divmat2-divmat2_blank).T, \n",
    "              vmin=vmin, vmax=vmax,\n",
    "              extent=[-ext,ext,ext,-ext], cmap='seismic')\n",
    "axs[2].set_title('Difference $\\\\times 10^5$')\n",
    "\n",
    "plt.colorbar(im, ax=axs.ravel().tolist())\n",
    "\n",
    "fig.suptitle(r'$\\nabla\\cdot\\vec\\alpha$', size=20)\n",
    "\n",
    "#plt.savefig('imgs/jan26_sample500_divergences.png')\n",
    "plt.show()"
   ]
  },
  {
   "cell_type": "code",
   "execution_count": null,
   "metadata": {},
   "outputs": [],
   "source": [
    "fig, axs = plt.subplots(1,3, figsize=(10,4))\n",
    "\n",
    "vmin = -1e-4#min(np.min(curlmat), np.min(curlmat_blank))\n",
    "vmax = 1e-4#max(np.max(curlmat), np.max(curlmat_blank))\n",
    "\n",
    "ext = 0.5*myimg.pixnum*myimg.pixsize\n",
    "\n",
    "im = axs[0].imshow(curlmat2.T, vmin=vmin, vmax=vmax, extent=[-ext,ext,ext,-ext],cmap='seismic')\n",
    "axs[0].set_title('Macro + substructure')\n",
    "axs[1].imshow(curlmat2_blank.T, vmin=vmin, vmax=vmax, extent=[-ext,ext,ext,-ext],cmap='seismic')\n",
    "axs[1].set_title('Macro only')\n",
    "axs[2].imshow((curlmat2-curlmat2_blank).T, vmin=vmin, vmax=vmax, extent=[-ext,ext,ext,-ext],cmap='seismic')\n",
    "axs[2].set_title('Difference')\n",
    "plt.colorbar(im, ax=axs.ravel().tolist())\n",
    "\n",
    "fig.suptitle(r'$\\nabla\\times\\vec\\alpha$ (400x400 pixels)', size=20)\n",
    "\n",
    "#plt.savefig('imgs/jan27_sample20_curls_double.png')\n",
    "\n",
    "plt.show()"
   ]
  },
  {
   "cell_type": "markdown",
   "metadata": {},
   "source": [
    "Testing the divergence residual at the very center"
   ]
  },
  {
   "cell_type": "code",
   "execution_count": null,
   "metadata": {},
   "outputs": [],
   "source": [
    "plt.imshow(((divmat2-divmat2_blank).T)[200-4:200+4,200-4:200+4], cmap='inferno')\n",
    "plt.colorbar()"
   ]
  },
  {
   "cell_type": "code",
   "execution_count": null,
   "metadata": {},
   "outputs": [],
   "source": [
    "plt.imshow(((divmat-divmat_blank).T)[100-2:100+2,100-2:100+2], cmap='inferno')\n",
    "plt.colorbar()"
   ]
  },
  {
   "cell_type": "code",
   "execution_count": null,
   "metadata": {},
   "outputs": [],
   "source": [
    "plt.imshow(((divmat2).T)[200-4:200+4,200-4:200+4])\n",
    "plt.colorbar()"
   ]
  },
  {
   "cell_type": "code",
   "execution_count": null,
   "metadata": {},
   "outputs": [],
   "source": [
    "plt.imshow(((divmat).T)[100-2:100+2,100-2:100+2])\n",
    "plt.colorbar()"
   ]
  },
  {
   "cell_type": "code",
   "execution_count": null,
   "metadata": {},
   "outputs": [],
   "source": [
    "fig, axs = plt.subplots(1,3, figsize=(10,4))\n",
    "\n",
    "ratio = 1e5\n",
    "# check that title is correctly set to the ratio\n",
    "\n",
    "#vmin = min(np.min(divmat), np.min(divmat_blank), ratio*np.min(divmat-divmat_blank))\n",
    "#vmax = max(np.max(divmat), np.max(divmat_blank), ratio*np.max(divmat-divmat_blank))\n",
    "vmax=100\n",
    "vmin = -vmax\n",
    "\n",
    "ext = 0.5*myimg.pixnum*myimg.pixsize\n",
    "\n",
    "im = axs[0].imshow(divmat2.T, vmin=vmin, vmax=vmax, extent=[-ext,ext,ext,-ext], cmap='seismic')\n",
    "axs[0].set_title('Macro + substructure')\n",
    "axs[1].imshow(divmat2_blank.T, vmin=vmin, vmax=vmax, extent=[-ext,ext,ext,-ext], cmap='seismic')\n",
    "axs[1].set_title('Macro only')\n",
    "im2 = axs[2].imshow(ratio*(divmat2-divmat2_blank).T, \n",
    "              vmin=vmin, vmax=vmax,\n",
    "              extent=[-ext,ext,ext,-ext], cmap='seismic')\n",
    "axs[2].set_title('Difference $\\\\times 10^5$')\n",
    "\n",
    "plt.colorbar(im, ax=axs.ravel().tolist())\n",
    "\n",
    "fig.suptitle(r'$\\nabla\\cdot\\vec\\alpha$', size=20)\n",
    "\n",
    "#plt.savefig('imgs/jan26_sample500_divergences.png')\n",
    "plt.show()"
   ]
  },
  {
   "cell_type": "code",
   "execution_count": null,
   "metadata": {},
   "outputs": [],
   "source": [
    "plt.imshow(myimg.alphamat_x.T); plt.colorbar()"
   ]
  },
  {
   "cell_type": "code",
   "execution_count": null,
   "metadata": {},
   "outputs": [],
   "source": [
    "plt.imshow(myimg.alphamat_y.T); plt.colorbar()"
   ]
  }
 ],
 "metadata": {
  "kernelspec": {
   "display_name": "Python 3",
   "language": "python",
   "name": "python3"
  },
  "language_info": {
   "codemirror_mode": {
    "name": "ipython",
    "version": 3
   },
   "file_extension": ".py",
   "mimetype": "text/x-python",
   "name": "python",
   "nbconvert_exporter": "python",
   "pygments_lexer": "ipython3",
   "version": "3.5.3"
  }
 },
 "nbformat": 4,
 "nbformat_minor": 4
}
