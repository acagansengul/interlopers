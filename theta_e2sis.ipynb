{
 "cells": [
  {
   "cell_type": "markdown",
   "metadata": {},
   "source": [
    "# Theta e2sis\n",
    "\n",
    "*5 Feb 2020*\n",
    "\n",
    "This is originally Ana's code for calculating the Einstein radius based on mass."
   ]
  },
  {
   "cell_type": "code",
   "execution_count": 1,
   "metadata": {},
   "outputs": [],
   "source": [
    "import numpy as np\n",
    "\n",
    "from astropy.cosmology import default_cosmology\n",
    "\n",
    "from lenstronomy.Cosmo.lens_cosmo import LensCosmo\n",
    "import lenstronomy.Util.constants as const\n",
    "\n",
    "from astropy.cosmology import default_cosmology"
   ]
  },
  {
   "cell_type": "code",
   "execution_count": 2,
   "metadata": {},
   "outputs": [],
   "source": [
    "def theta_E2M_SIS(r,theta_E,D_ds,D_d,D_s):\n",
    "    \"\"\"\n",
    "    r: distance out to which to enclose mass (in meters)\n",
    "    theta_ein: in radians\n",
    "    \"\"\"\n",
    "    D_ds_m = D_ds * const.Mpc #in m\n",
    "    D_s_m = D_s * const.Mpc #in m\n",
    "    v = np.sqrt((theta_E * D_s_m)/(4 * np.pi * D_ds_m)) * const.c \n",
    "    m_kg = v**2 * np.pi / const.G * r\n",
    "    m_msun = m_kg / const.M_sun\n",
    "    return m_msun"
   ]
  },
  {
   "cell_type": "code",
   "execution_count": 3,
   "metadata": {},
   "outputs": [
    {
     "name": "stdout",
     "output_type": "stream",
     "text": [
      "r_ein = 1.00 as || r_vir = 400 kpc --> M_SIS = 1.61e+13 M_sun\n",
      "r_ein = 1.00 as || r_vir = 300 kpc --> M_SIS = 1.21e+13 M_sun\n",
      "r_ein = 1.00 as || r_vir = 200 kpc --> M_SIS = 8.05e+12 M_sun\n"
     ]
    }
   ],
   "source": [
    "z_lens = 0.2\n",
    "z_source = 0.6\n",
    "cosmo = default_cosmology.get()\n",
    "cosmo_lens = LensCosmo(z_lens=z_lens, z_source=z_source, cosmo=cosmo)\n",
    "D_ls = cosmo_lens.D_ds\n",
    "D_l = cosmo_lens.D_d\n",
    "D_s = cosmo_lens.D_s\n",
    "\n",
    "theta_e = 1\n",
    "\n",
    "for i in [1]:\n",
    "    for r_vir in [400,300,200]:#kpc \n",
    "        te = i\n",
    "        r_vir_m = r_vir * 1e-3 * const.Mpc\n",
    "        te_as = te * const.arcsec\n",
    "        te_phys = te_as * D_l * 1e3\n",
    "        print('r_ein = %.2f as || r_vir = %.0f kpc --> M_SIS = %.2e M_sun' % (theta_e,r_vir,theta_E2M_SIS(r_vir_m,te_as,D_ls,D_l,D_s)))\n",
    "              "
   ]
  },
  {
   "cell_type": "code",
   "execution_count": 4,
   "metadata": {},
   "outputs": [
    {
     "name": "stdout",
     "output_type": "stream",
     "text": [
      "r_ein = 1.00 as || r_vir = 400 kpc --> M_SIS = 2.37e+13 M_sun\n",
      "r_ein = 1.00 as || r_vir = 300 kpc --> M_SIS = 1.78e+13 M_sun\n",
      "r_ein = 1.00 as || r_vir = 200 kpc --> M_SIS = 1.19e+13 M_sun\n"
     ]
    }
   ],
   "source": [
    "z_lens = 0.5\n",
    "z_source = 1.0\n",
    "cosmo = default_cosmology.get()\n",
    "cosmo_lens = LensCosmo(z_lens=z_lens, z_source=z_source, cosmo=cosmo)\n",
    "D_ls = cosmo_lens.D_ds\n",
    "D_l = cosmo_lens.D_d\n",
    "D_s = cosmo_lens.D_s\n",
    "\n",
    "theta_e = 1\n",
    "\n",
    "for i in [1]:\n",
    "    for r_vir in [400,300,200]:#kpc \n",
    "        te = i\n",
    "        r_vir_m = r_vir * 1e-3 * const.Mpc\n",
    "        te_as = te * const.arcsec\n",
    "        te_phys = te_as * D_l * 1e3\n",
    "        print('r_ein = %.2f as || r_vir = %.0f kpc --> M_SIS = %.2e M_sun' % (theta_e,r_vir,theta_E2M_SIS(r_vir_m,te_as,D_ls,D_l,D_s)))"
   ]
  },
  {
   "cell_type": "code",
   "execution_count": null,
   "metadata": {},
   "outputs": [],
   "source": []
  }
 ],
 "metadata": {
  "kernelspec": {
   "display_name": "Python 3",
   "language": "python",
   "name": "python3"
  },
  "language_info": {
   "codemirror_mode": {
    "name": "ipython",
    "version": 3
   },
   "file_extension": ".py",
   "mimetype": "text/x-python",
   "name": "python",
   "nbconvert_exporter": "python",
   "pygments_lexer": "ipython3",
   "version": "3.5.3"
  }
 },
 "nbformat": 4,
 "nbformat_minor": 4
}
