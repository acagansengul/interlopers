{
 "cells": [
  {
   "cell_type": "markdown",
   "metadata": {},
   "source": [
    "# Subhalo normalization\n",
    "\n",
    "*26 Feb 2020*\n",
    "\n",
    "The computations in this notebook should be pretty light. :)"
   ]
  },
  {
   "cell_type": "code",
   "execution_count": 29,
   "metadata": {},
   "outputs": [],
   "source": [
    "import numpy as np\n",
    "import matplotlib.pyplot as plt\n",
    "\n",
    "from astropy.cosmology import FlatLambdaCDM\n",
    "from astropy import units as u\n",
    "from astropy import constants as c"
   ]
  },
  {
   "cell_type": "markdown",
   "metadata": {},
   "source": [
    "We'll write everything in the form of\n",
    "$$\\frac{d^2 N}{dmdA} = F m^{-1.9}$$\n",
    "so we can easily compare numbers without relying on a pivot mass."
   ]
  },
  {
   "cell_type": "markdown",
   "metadata": {},
   "source": [
    "## Calculating $\\Sigma_\\mathrm{cr}$\n",
    "Note that this changes slightly as a function of $h$:\n",
    "- $h= 0.675$: $3.01\\times 10^{9}\\,\\mathrm{M_\\odot / kpc^2}$\n",
    "- $h= 0.7$: $3.11\\times 10^{9}\\,\\mathrm{M_\\odot / kpc^2}$"
   ]
  },
  {
   "cell_type": "code",
   "execution_count": 23,
   "metadata": {},
   "outputs": [
    {
     "data": {
      "text/latex": [
       "$3.0050938 \\times 10^{9} \\; \\mathrm{\\frac{M_{\\odot}}{kpc^{2}}}$"
      ],
      "text/plain": [
       "<Quantity 3.00509375e+09 solMass / kpc2>"
      ]
     },
     "execution_count": 23,
     "metadata": {},
     "output_type": "execute_result"
    }
   ],
   "source": [
    "cosmo = FlatLambdaCDM(H0=67.5, Om0=0.316) # Planck\n",
    "#cosmo = FlatLambdaCDM(H0=69, Om0=0.302) # Ana/ETHOS (1809.00004)\n",
    "\n",
    "z_source = 1.0\n",
    "z_lens = 0.5\n",
    "\n",
    "a_source = 1/(1+z_source)\n",
    "a_lens = 1/(1+z_lens)\n",
    "\n",
    "chi_source = cosmo.comoving_distance(z_source) # (not /h)\n",
    "chi_lens = cosmo.comoving_distance(z_lens) # (not /h)\n",
    "\n",
    "D_s = a_source * chi_source\n",
    "D_l = a_lens * chi_lens\n",
    "D_ls = a_source * (chi_source - chi_lens) # this works because space is flat\n",
    "\n",
    "sigma_crit = c.c**2 * D_s / (4 * np.pi * c.G * D_ls * D_l)\n",
    "sigma_crit = sigma_crit.to(u.Msun/u.kpc**2)\n",
    "sigma_crit"
   ]
  },
  {
   "cell_type": "markdown",
   "metadata": {},
   "source": [
    "## Li+ 2016"
   ]
  },
  {
   "cell_type": "markdown",
   "metadata": {},
   "source": [
    "Section 2"
   ]
  },
  {
   "cell_type": "code",
   "execution_count": 37,
   "metadata": {},
   "outputs": [
    {
     "data": {
      "text/plain": [
       "2190000.0"
      ]
     },
     "execution_count": 37,
     "metadata": {},
     "output_type": "execute_result"
    }
   ],
   "source": [
    "h = .73\n",
    ".01 / (3e8 * h**-1)**-1 * h**2"
   ]
  },
  {
   "cell_type": "code",
   "execution_count": 29,
   "metadata": {},
   "outputs": [
    {
     "data": {
      "text/plain": [
       "2099999.9999999995"
      ]
     },
     "execution_count": 29,
     "metadata": {},
     "output_type": "execute_result"
    }
   ],
   "source": [
    "3e6 * h**-1 * h**2"
   ]
  },
  {
   "cell_type": "code",
   "execution_count": 33,
   "metadata": {},
   "outputs": [
    {
     "data": {
      "text/plain": [
       "23333333333333.332"
      ]
     },
     "execution_count": 33,
     "metadata": {},
     "output_type": "execute_result"
    }
   ],
   "source": [
    "alpha = 2\n",
    "mhigh = 1e8\n",
    "mlow = 1e7\n",
    "2.1e6 * (1-alpha)/(mhigh**(1-alpha) - mlow**(1-alpha))"
   ]
  },
  {
   "cell_type": "code",
   "execution_count": 34,
   "metadata": {},
   "outputs": [
    {
     "data": {
      "text/plain": [
       "'2.33333e+13'"
      ]
     },
     "execution_count": 34,
     "metadata": {},
     "output_type": "execute_result"
    }
   ],
   "source": [
    "'%g'%23333333333333.332"
   ]
  },
  {
   "cell_type": "markdown",
   "metadata": {},
   "source": [
    "Section 3"
   ]
  },
  {
   "cell_type": "code",
   "execution_count": 8,
   "metadata": {},
   "outputs": [],
   "source": [
    "cosmo = FlatLambdaCDM(H0=70, Om0=0.316)"
   ]
  },
  {
   "cell_type": "code",
   "execution_count": 9,
   "metadata": {},
   "outputs": [
    {
     "data": {
      "text/latex": [
       "$679.00205 \\; \\mathrm{Mpc}$"
      ],
      "text/plain": [
       "<Quantity 679.00204801 Mpc>"
      ]
     },
     "execution_count": 9,
     "metadata": {},
     "output_type": "execute_result"
    }
   ],
   "source": [
    "cosmo.angular_diameter_distance(.2)"
   ]
  },
  {
   "cell_type": "code",
   "execution_count": 10,
   "metadata": {},
   "outputs": [
    {
     "data": {
      "text/latex": [
       "$0.0032918948 \\; \\mathrm{Mpc}$"
      ],
      "text/plain": [
       "<Quantity 0.00329189 Mpc>"
      ]
     },
     "execution_count": 10,
     "metadata": {},
     "output_type": "execute_result"
    }
   ],
   "source": [
    "arcsec = np.pi / 648000\n",
    "arcsec * cosmo.angular_diameter_distance(.2)"
   ]
  },
  {
   "cell_type": "code",
   "execution_count": 15,
   "metadata": {},
   "outputs": [
    {
     "data": {
      "text/latex": [
       "$10.836572 \\; \\mathrm{kpc^{2}}$"
      ],
      "text/plain": [
       "<Quantity 10.83657153 kpc2>"
      ]
     },
     "execution_count": 15,
     "metadata": {},
     "output_type": "execute_result"
    }
   ],
   "source": [
    "(arcsec * cosmo.angular_diameter_distance(.2).to(u.kpc))**2"
   ]
  },
  {
   "cell_type": "code",
   "execution_count": 42,
   "metadata": {},
   "outputs": [
    {
     "data": {
      "text/latex": [
       "$20024.784 \\; \\mathrm{\\frac{1}{kpc^{2}}}$"
      ],
      "text/plain": [
       "<Quantity 20024.78361219 1 / kpc2>"
      ]
     },
     "execution_count": 42,
     "metadata": {},
     "output_type": "execute_result"
    }
   ],
   "source": [
    "Sig0 = 3.1e5 * h / (arcsec * cosmo.angular_diameter_distance(.2).to(u.kpc))**2\n",
    "Sig0"
   ]
  },
  {
   "cell_type": "code",
   "execution_count": 43,
   "metadata": {},
   "outputs": [],
   "source": [
    "h = .70"
   ]
  },
  {
   "cell_type": "code",
   "execution_count": 44,
   "metadata": {},
   "outputs": [
    {
     "data": {
      "text/latex": [
       "$39434.974 \\; \\mathrm{\\frac{1}{kpc^{2}}}$"
      ],
      "text/plain": [
       "<Quantity 39434.97372236 1 / kpc2>"
      ]
     },
     "execution_count": 44,
     "metadata": {},
     "output_type": "execute_result"
    }
   ],
   "source": [
    "Sig0 * h**-1.9"
   ]
  },
  {
   "cell_type": "markdown",
   "metadata": {},
   "source": [
    "Section 4"
   ]
  },
  {
   "cell_type": "code",
   "execution_count": 45,
   "metadata": {},
   "outputs": [
    {
     "data": {
      "text/latex": [
       "$102377.88 \\; \\mathrm{\\frac{1}{kpc^{2}}}$"
      ],
      "text/plain": [
       "<Quantity 102377.88137894 1 / kpc2>"
      ]
     },
     "execution_count": 45,
     "metadata": {},
     "output_type": "execute_result"
    }
   ],
   "source": [
    "Sig0 = 10**6.2 *h / (arcsec * cosmo.angular_diameter_distance(.2).to(u.kpc))**2\n",
    "Sig0"
   ]
  },
  {
   "cell_type": "code",
   "execution_count": 46,
   "metadata": {},
   "outputs": [
    {
     "data": {
      "text/latex": [
       "$201613.62 \\; \\mathrm{\\frac{1}{kpc^{2}}}$"
      ],
      "text/plain": [
       "<Quantity 201613.61741115 1 / kpc2>"
      ]
     },
     "execution_count": 46,
     "metadata": {},
     "output_type": "execute_result"
    }
   ],
   "source": [
    "Sig0 / (h**-1)**-1.9"
   ]
  },
  {
   "cell_type": "markdown",
   "metadata": {},
   "source": [
    "## Ana/ETHOS"
   ]
  },
  {
   "cell_type": "code",
   "execution_count": 43,
   "metadata": {},
   "outputs": [
    {
     "data": {
      "text/plain": [
       "2.045531914893617e-06"
      ]
     },
     "execution_count": 43,
     "metadata": {},
     "output_type": "execute_result"
    }
   ],
   "source": [
    "sigcr = 2.35e9 # Msun / kpc^2\n",
    "kappasub_bar = (1.90)*10**-4 # unitless\n",
    "meff = (2.53)*10**7 # Msun\n",
    "\n",
    "mhigh = 1e8\n",
    "mlow = 1.38e6 # 50 particles value\n",
    "#mlow = 1e5 # for comparison\n",
    "\n",
    "kappasub_bar / sigcr * meff"
   ]
  },
  {
   "cell_type": "code",
   "execution_count": 33,
   "metadata": {},
   "outputs": [
    {
     "data": {
      "text/plain": [
       "25930.416296317813"
      ]
     },
     "execution_count": 33,
     "metadata": {},
     "output_type": "execute_result"
    }
   ],
   "source": [
    "sigcr * kappasub_bar * 0.1 / (mhigh**0.1 - mlow**0.1)"
   ]
  },
  {
   "cell_type": "markdown",
   "metadata": {},
   "source": [
    "Actually we can calculate what mlow must have been"
   ]
  },
  {
   "cell_type": "code",
   "execution_count": 8,
   "metadata": {},
   "outputs": [
    {
     "data": {
      "text/plain": [
       "7.045598858431645e+58"
      ]
     },
     "execution_count": 8,
     "metadata": {},
     "output_type": "execute_result"
    }
   ],
   "source": [
    "(1e8**.1 - 7.67e5)**10"
   ]
  },
  {
   "cell_type": "code",
   "execution_count": 30,
   "metadata": {},
   "outputs": [
    {
     "data": {
      "text/plain": [
       "1.6150000000000002e-06"
      ]
     },
     "execution_count": 30,
     "metadata": {},
     "output_type": "execute_result"
    }
   ],
   "source": [
    "(7.3e-7 + 2.5e-6)/2"
   ]
  },
  {
   "cell_type": "code",
   "execution_count": 31,
   "metadata": {},
   "outputs": [
    {
     "data": {
      "text/plain": [
       "1.3509256086106296e-06"
      ]
     },
     "execution_count": 31,
     "metadata": {},
     "output_type": "execute_result"
    }
   ],
   "source": [
    "np.sqrt(7.3e-7 * 2.5e-6)"
   ]
  },
  {
   "cell_type": "code",
   "execution_count": null,
   "metadata": {},
   "outputs": [],
   "source": []
  },
  {
   "cell_type": "markdown",
   "metadata": {},
   "source": [
    "## ETHOS"
   ]
  },
  {
   "cell_type": "code",
   "execution_count": 6,
   "metadata": {},
   "outputs": [
    {
     "name": "stdout",
     "output_type": "stream",
     "text": [
      "M_{50} 2.5184e+12\n"
     ]
    }
   ],
   "source": [
    "m50 = 8.21e7/3.26e-5\n",
    "print('M_{50}', '%g'%m50)"
   ]
  },
  {
   "cell_type": "code",
   "execution_count": 49,
   "metadata": {},
   "outputs": [
    {
     "data": {
      "text/plain": [
       "6379.5585181634515"
      ]
     },
     "execution_count": 49,
     "metadata": {},
     "output_type": "execute_result"
    }
   ],
   "source": [
    "a0 = 3.26e-5\n",
    "mpiv = 2.52e7\n",
    "r50 = 433.48\n",
    "area = np.pi * r50**2\n",
    "a0 / mpiv**-1.9 / area"
   ]
  },
  {
   "cell_type": "markdown",
   "metadata": {},
   "source": [
    "## Ana's code"
   ]
  },
  {
   "cell_type": "code",
   "execution_count": 3,
   "metadata": {},
   "outputs": [
    {
     "data": {
      "text/plain": [
       "1906391.589994177"
      ]
     },
     "execution_count": 3,
     "metadata": {},
     "output_type": "execute_result"
    }
   ],
   "source": [
    "a0 = 2.0577e-6\n",
    "mpiv = 2.52e7\n",
    "b = 6.3 # kpc\n",
    "area = (np.pi*b**2)\n",
    "a0 / mpiv**-1.9 / area"
   ]
  },
  {
   "cell_type": "markdown",
   "metadata": {},
   "source": [
    "## Ana's theory paper"
   ]
  },
  {
   "cell_type": "code",
   "execution_count": 24,
   "metadata": {},
   "outputs": [],
   "source": [
    "sig0 = 3e9 # the value she used, and pretty close to Planck value\n",
    "kappasub_bar = .02\n",
    "mlow = 1e5\n",
    "mhigh = 1e8"
   ]
  },
  {
   "cell_type": "code",
   "execution_count": 25,
   "metadata": {},
   "outputs": [
    {
     "data": {
      "text/plain": [
       "1906398.5117937024"
      ]
     },
     "execution_count": 25,
     "metadata": {},
     "output_type": "execute_result"
    }
   ],
   "source": [
    "sig0 * kappasub_bar * 0.1/(mhigh**.1 - mlow**.1)"
   ]
  },
  {
   "cell_type": "code",
   "execution_count": 26,
   "metadata": {},
   "outputs": [
    {
     "data": {
      "text/plain": [
       "847285.1511085231"
      ]
     },
     "execution_count": 26,
     "metadata": {},
     "output_type": "execute_result"
    }
   ],
   "source": [
    "1906391.589994177 * 4/9 # physical to comoving conversion"
   ]
  },
  {
   "cell_type": "markdown",
   "metadata": {},
   "source": [
    "Reasonable range therefrom"
   ]
  },
  {
   "cell_type": "code",
   "execution_count": 27,
   "metadata": {},
   "outputs": [
    {
     "data": {
      "text/plain": [
       "285959.77676905534"
      ]
     },
     "execution_count": 27,
     "metadata": {},
     "output_type": "execute_result"
    }
   ],
   "source": [
    "sig0 * .003 * 0.1/(mhigh**.1 - mlow**.1)"
   ]
  },
  {
   "cell_type": "code",
   "execution_count": 28,
   "metadata": {},
   "outputs": [
    {
     "data": {
      "text/plain": [
       "2859597.767690554"
      ]
     },
     "execution_count": 28,
     "metadata": {},
     "output_type": "execute_result"
    }
   ],
   "source": [
    "sig0 * .03 * 0.1/(mhigh**.1 - mlow**.1)"
   ]
  },
  {
   "cell_type": "markdown",
   "metadata": {},
   "source": [
    "## Simon's figure"
   ]
  },
  {
   "cell_type": "code",
   "execution_count": 52,
   "metadata": {},
   "outputs": [
    {
     "data": {
      "text/plain": [
       "190187.1830953333"
      ]
     },
     "execution_count": 52,
     "metadata": {},
     "output_type": "execute_result"
    }
   ],
   "source": [
    "sigma_sub = .012\n",
    "mpiv = 1e8\n",
    "sigma_sub / mpiv / mpiv**-1.9"
   ]
  },
  {
   "cell_type": "markdown",
   "metadata": {},
   "source": [
    "## Tmp"
   ]
  },
  {
   "cell_type": "code",
   "execution_count": 2,
   "metadata": {},
   "outputs": [
    {
     "data": {
      "text/plain": [
       "0.12028517751621011"
      ]
     },
     "execution_count": 2,
     "metadata": {},
     "output_type": "execute_result"
    }
   ],
   "source": [
    "1906391.589994177 / 190187.1830953333 * .012"
   ]
  },
  {
   "cell_type": "code",
   "execution_count": null,
   "metadata": {},
   "outputs": [],
   "source": []
  }
 ],
 "metadata": {
  "kernelspec": {
   "display_name": "Python 3",
   "language": "python",
   "name": "python3"
  },
  "language_info": {
   "codemirror_mode": {
    "name": "ipython",
    "version": 3
   },
   "file_extension": ".py",
   "mimetype": "text/x-python",
   "name": "python",
   "nbconvert_exporter": "python",
   "pygments_lexer": "ipython3",
   "version": "3.6.3"
  }
 },
 "nbformat": 4,
 "nbformat_minor": 4
}
