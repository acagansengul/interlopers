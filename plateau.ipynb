{
 "cells": [
  {
   "cell_type": "markdown",
   "metadata": {},
   "source": [
    "# Plateau comparison\n",
    "*Feb 25 2020*\n",
    "\n",
    "In this notebook, we'll measure the strength of the plateau in the power spectrum, as a function of subhalo density and redshift. We'll use a Sheth-Tormen mass function for the interlopers when that's ready."
   ]
  },
  {
   "cell_type": "code",
   "execution_count": 1,
   "metadata": {},
   "outputs": [],
   "source": [
    "import numpy as np\n",
    "import matplotlib.pyplot as plt\n",
    "\n",
    "from astropy.cosmology import FlatLambdaCDM, z_at_value\n",
    "from astropy import units as u\n",
    "\n",
    "from scipy.integrate import quad, dblquad\n",
    "from scipy.interpolate import interp1d, interp2d\n",
    "\n",
    "from helpers import sigma_cr\n",
    "\n",
    "cosmo = FlatLambdaCDM(H0=70, Om0=0.316)"
   ]
  },
  {
   "cell_type": "code",
   "execution_count": 2,
   "metadata": {},
   "outputs": [],
   "source": [
    "z_low = .01 # for numerical reasons, sometimes we can't go all the way down to 0\n",
    "m_low = 1e5 # in Msun\n",
    "m_high = 1e8"
   ]
  },
  {
   "cell_type": "code",
   "execution_count": 22,
   "metadata": {},
   "outputs": [],
   "source": [
    "def chi_to_z(chi):\n",
    "    return z_at_value(cosmo.comoving_distance, chi*u.kpc, zmax=3.1)\n",
    "def z_to_chi(z):\n",
    "    return cosmo.comoving_distance(z).to(u.kpc).value\n",
    "chilist = np.linspace(z_to_chi(z_low),z_to_chi(3),100)\n",
    "zlist = [chi_to_z(chi) for chi in chilist]\n",
    "chi_to_z_fast = interp1d(chilist, zlist)\n",
    "z_to_chi_fast = interp1d(zlist, chilist)"
   ]
  },
  {
   "cell_type": "markdown",
   "metadata": {},
   "source": [
    "## Subhalos\n",
    "$$P(k = 0) = \\frac{1}{\\Sigma_{cr}^2}\\int_{10^5}^{10^8} dm \\, m^2 \\frac{d^2N}{dmdA}(z_l,m)$$\n",
    "where\n",
    "$$\\frac{d^2 N}{dmdA}(z_l, m) = \\frac{\\Sigma_{sub}^{new}}{m_0}\\left(\\frac{m}{m_0}\\right)^{-1.9}\\sqrt{1+z_l}$$\n",
    "and $\\Sigma_{sub}^{new} = \\Sigma_{sub}^{old}/\\sqrt{1+z_{old}}$."
   ]
  },
  {
   "cell_type": "code",
   "execution_count": 3,
   "metadata": {},
   "outputs": [],
   "source": [
    "m0 = 1e8 #* u.Msun\n",
    "sigma_old_ana = 0.120 #/ u.kpc**2\n",
    "sigma_new_ana = sigma_old_ana / np.sqrt(1+0.5) # since their main lens had $z=0.5$"
   ]
  },
  {
   "cell_type": "markdown",
   "metadata": {},
   "source": [
    "Want $\\Sigma_{sub}^{old} 1/m_0 \\cdot m_0^{1.9} = 1.9e6 M_\\odot^{0.9} \\mathrm{kpc}^{-2}$"
   ]
  },
  {
   "cell_type": "code",
   "execution_count": 4,
   "metadata": {},
   "outputs": [
    {
     "data": {
      "text/plain": [
       "0.11988189545123691"
      ]
     },
     "execution_count": 4,
     "metadata": {},
     "output_type": "execute_result"
    }
   ],
   "source": [
    "1.9e6 * m0 / m0**1.9"
   ]
  },
  {
   "cell_type": "code",
   "execution_count": 5,
   "metadata": {},
   "outputs": [
    {
     "data": {
      "text/latex": [
       "$3.1165499 \\times 10^{15} \\; \\mathrm{\\frac{M_{\\odot}}{Mpc^{2}}}$"
      ],
      "text/plain": [
       "<Quantity 3.11654993e+15 solMass / Mpc2>"
      ]
     },
     "execution_count": 5,
     "metadata": {},
     "output_type": "execute_result"
    }
   ],
   "source": [
    "sigma_cr(.5,1)"
   ]
  },
  {
   "cell_type": "code",
   "execution_count": 6,
   "metadata": {},
   "outputs": [
    {
     "data": {
      "text/plain": [
       "0.00011225938665592646"
      ]
     },
     "execution_count": 6,
     "metadata": {},
     "output_type": "execute_result"
    }
   ],
   "source": [
    "def power_sub(z_l, z_s, mlow=m_low, mhigh=m_high):\n",
    "    sigcr = sigma_cr(z_l, z_s).to(u.M_sun/u.kpc**2).value\n",
    "    #sigcr = 1\n",
    "    def massfunc(m):\n",
    "        return sigma_new_ana / m0 * (m/m0)**-1.9 * np.sqrt(1+z_l) # this integral could actually be done analytically if we want speedup\n",
    "    \n",
    "    #print('massfunc', massfunc(1e7))\n",
    "    integral = quad(lambda m: m**2 * massfunc(m), mlow, mhigh)[0]\n",
    "    #print('integral error', integral[1]/integral[0])\n",
    "    return 1/sigcr**2 * integral\n",
    "    \n",
    "power_sub(.5,1) # This matches Ana's normalization"
   ]
  },
  {
   "cell_type": "code",
   "execution_count": 7,
   "metadata": {},
   "outputs": [
    {
     "name": "stdout",
     "output_type": "stream",
     "text": [
      "CPU times: user 16.4 s, sys: 0 ns, total: 16.4 s\n",
      "Wall time: 16.4 s\n"
     ]
    }
   ],
   "source": [
    "%%time\n",
    "# Calculate subhalo power (plateau) grid\n",
    "zllist = np.linspace(z_low,3,100)\n",
    "zslist = np.linspace(z_low,3,100)\n",
    "sub_power_grid = np.zeros((len(zllist), len(zslist)))\n",
    "for i_l, z_l in enumerate(zllist):\n",
    "    for i_s, z_s in enumerate(zslist):\n",
    "        if z_s <= z_l: continue\n",
    "        \n",
    "        sub_power_grid[i_l, i_s] = power_sub(z_l, z_s)"
   ]
  },
  {
   "cell_type": "code",
   "execution_count": 8,
   "metadata": {},
   "outputs": [
    {
     "data": {
      "text/plain": [
       "Text(0.5, 1.0, 'Subhalo plateau')"
      ]
     },
     "execution_count": 8,
     "metadata": {},
     "output_type": "execute_result"
    },
    {
     "data": {
      "image/png": "[encoded data removed]",
      "text/plain": [
       "<Figure size 432x288 with 2 Axes>"
      ]
     },
     "metadata": {
      "needs_background": "light"
     },
     "output_type": "display_data"
    }
   ],
   "source": [
    "plt.imshow(sub_power_grid, extent=[z_low,3,3,z_low])\n",
    "plt.xlabel('z_source')\n",
    "plt.ylabel('z_lens')\n",
    "plt.colorbar()\n",
    "plt.title('Subhalo plateau')\n",
    "#plt.savefig('imgs/feb25_subplat.png')"
   ]
  },
  {
   "cell_type": "markdown",
   "metadata": {},
   "source": [
    "## Interlopers\n",
    "To keep the integral simple, we will first start **without the effective mass ratio**.\n",
    "$$P_0  \\approx \\frac{1}{\\Sigma_{cr}^2} \\int_0^{z_s} dz \\frac{d\\chi}{dz} \\frac{R^2(z)}{R^2(z_l)} \\int_{10^5}^{10^8} m^2 n(z, m) dm$$\n",
    "or putting the integral directly in terms of the comoving distance,\n",
    "$$P_0  \\approx \\frac{1}{\\Sigma_{cr}^2} \\int_0^{\\chi_s} d\\chi \\frac{R^2(\\chi)}{R^2(\\chi_l)} \\int_{10^5}^{10^8} m^2 n(z(\\chi), m) dm$$"
   ]
  },
  {
   "cell_type": "markdown",
   "metadata": {},
   "source": [
    "### Sheth-Tormen mass function"
   ]
  },
  {
   "cell_type": "code",
   "execution_count": 9,
   "metadata": {},
   "outputs": [],
   "source": [
    "# Load ST results\n",
    "h = .675\n",
    "massesn = np.load('files/st_results/WIDE_massesn_ST.npy')\n",
    "massfunc_mat = np.load('files/st_results/WIDE_massfunc_ST.npy') * h**3/1000**3\n",
    "redshifts = np.load('files/st_results/WIDE_redshifts_ST.npy')\n",
    "\n",
    "massfunc = interp2d(redshifts, massesn, massfunc_mat, bounds_error=True) # function of (z, mass)"
   ]
  },
  {
   "cell_type": "code",
   "execution_count": 39,
   "metadata": {},
   "outputs": [
    {
     "data": {
      "text/plain": [
       "(105.69345535579883, '9.46132e+13')"
      ]
     },
     "execution_count": 39,
     "metadata": {},
     "output_type": "execute_result"
    }
   ],
   "source": [
    "min(massesn), '%g'%max(massesn)"
   ]
  },
  {
   "cell_type": "markdown",
   "metadata": {},
   "source": [
    "### Double-cone radius"
   ]
  },
  {
   "cell_type": "code",
   "execution_count": 10,
   "metadata": {},
   "outputs": [],
   "source": [
    "def double_cone_direct(com_z, com_l, com_s):\n",
    "    # Input can be in any units\n",
    "    if com_z < com_l:\n",
    "        return com_z / com_l\n",
    "    else:\n",
    "        return (com_s - com_z) / (com_s - com_l)"
   ]
  },
  {
   "cell_type": "markdown",
   "metadata": {},
   "source": [
    "## Mass integral"
   ]
  },
  {
   "cell_type": "markdown",
   "metadata": {},
   "source": [
    "First we calculate the inner integral as a function of $\\chi$:\n",
    "$$\\int_{10^5}^{10^8} m^2 n(z(\\chi), m) dm$$"
   ]
  },
  {
   "cell_type": "code",
   "execution_count": 41,
   "metadata": {},
   "outputs": [],
   "source": [
    "m_low = 1e4"
   ]
  },
  {
   "cell_type": "code",
   "execution_count": 42,
   "metadata": {},
   "outputs": [
    {
     "name": "stdout",
     "output_type": "stream",
     "text": [
      "CPU times: user 132 ms, sys: 28 ms, total: 160 ms\n",
      "Wall time: 143 ms\n"
     ]
    }
   ],
   "source": [
    "%%time\n",
    "# just compute this once for all z_l and z_s\n",
    "def mass_integrand(mass, chi):\n",
    "    #print('z', chi_to_z(chi))\n",
    "    return mass**2 * massfunc(chi_to_z_fast(chi), mass)\n",
    "\n",
    "chi_list = np.linspace(z_to_chi(z_low),z_to_chi(3-z_low),20)\n",
    "mass_integral_list = [quad(mass_integrand, m_low, m_high, args=(chi,), epsrel=1e-2)[0] for chi in chi_list]\n",
    "mass_integral_func = interp1d(chi_list, mass_integral_list)"
   ]
  },
  {
   "cell_type": "code",
   "execution_count": 43,
   "metadata": {},
   "outputs": [
    {
     "data": {
      "text/plain": [
       "Text(0, 0.5, 'integral m^2 n dm')"
      ]
     },
     "execution_count": 43,
     "metadata": {},
     "output_type": "execute_result"
    },
    {
     "data": {
      "image/png": "[encoded data removed]",
      "text/plain": [
       "<Figure size 432x288 with 1 Axes>"
      ]
     },
     "metadata": {
      "needs_background": "light"
     },
     "output_type": "display_data"
    }
   ],
   "source": [
    "plt.plot(chi_list, mass_integral_list)\n",
    "plt.xlabel('comoving distance (kpc)')\n",
    "plt.ylabel('integral m^2 n dm')"
   ]
  },
  {
   "cell_type": "code",
   "execution_count": 44,
   "metadata": {},
   "outputs": [],
   "source": [
    "def integrand(chi, chil, chis):\n",
    "    # kpc_comoving\n",
    "    rad_term = double_cone_direct(chi, chil, chis)**2 / 1 # denom is automatically one in our convention\n",
    "    return rad_term * mass_integral_func(chi)\n",
    "\n",
    "def interloper_power(z_l, z_s):\n",
    "    assert(z_l < z_s)\n",
    "    sigcr = sigma_cr(z_l, z_s).to(u.Msun/u.kpc**2).value\n",
    "    res = quad(integrand, z_to_chi(z_low), z_to_chi(z_s), args=(z_to_chi(z_l), z_to_chi(z_s)))\n",
    "    power = res[0]/sigcr**2\n",
    "    return power # in kpc^2"
   ]
  },
  {
   "cell_type": "code",
   "execution_count": 45,
   "metadata": {},
   "outputs": [
    {
     "name": "stderr",
     "output_type": "stream",
     "text": [
      "/home/arthur/Documents/cosmo/interlopers/venv/lib/python3.5/site-packages/ipykernel_launcher.py:9: IntegrationWarning: The occurrence of roundoff error is detected, which prevents \n",
      "  the requested tolerance from being achieved.  The error may be \n",
      "  underestimated.\n",
      "  if __name__ == '__main__':\n"
     ]
    },
    {
     "data": {
      "text/plain": [
       "4.331917892229022e-06"
      ]
     },
     "execution_count": 45,
     "metadata": {},
     "output_type": "execute_result"
    }
   ],
   "source": [
    "interloper_power(.5, 1)"
   ]
  },
  {
   "cell_type": "code",
   "execution_count": 23,
   "metadata": {},
   "outputs": [
    {
     "name": "stderr",
     "output_type": "stream",
     "text": [
      "/home/arthur/Documents/cosmo/interlopers/venv/lib/python3.5/site-packages/ipykernel_launcher.py:9: IntegrationWarning: The maximum number of subdivisions (50) has been achieved.\n",
      "  If increasing the limit yields no improvement it is advised to analyze \n",
      "  the integrand in order to determine the difficulties.  If the position of a \n",
      "  local difficulty can be determined (singularity, discontinuity) one will \n",
      "  probably gain from splitting up the interval and calling the integrator \n",
      "  on the subranges.  Perhaps a special-purpose integrator should be used.\n",
      "  if __name__ == '__main__':\n",
      "/home/arthur/Documents/cosmo/interlopers/venv/lib/python3.5/site-packages/ipykernel_launcher.py:9: IntegrationWarning: The occurrence of roundoff error is detected, which prevents \n",
      "  the requested tolerance from being achieved.  The error may be \n",
      "  underestimated.\n",
      "  if __name__ == '__main__':\n"
     ]
    },
    {
     "name": "stdout",
     "output_type": "stream",
     "text": [
      "CPU times: user 10.4 s, sys: 112 ms, total: 10.6 s\n",
      "Wall time: 10.4 s\n"
     ]
    }
   ],
   "source": [
    "%%time\n",
    "\n",
    "# Calculate interloper power (plateau) grid\n",
    "zllist = np.linspace(z_low,3-z_low,20)\n",
    "zslist = np.linspace(z_low,3-z_low,20)\n",
    "int_power_grid = np.zeros((len(zllist), len(zslist)))\n",
    "for i_l, z_l in enumerate(zllist):\n",
    "    for i_s, z_s in enumerate(zslist):\n",
    "        if z_s <= z_l: continue\n",
    "        \n",
    "        int_power_grid[i_l, i_s] = interloper_power(z_l, z_s)"
   ]
  },
  {
   "cell_type": "code",
   "execution_count": 24,
   "metadata": {},
   "outputs": [
    {
     "data": {
      "text/plain": [
       "Text(0.5, 1.0, 'Interloper plateau')"
      ]
     },
     "execution_count": 24,
     "metadata": {},
     "output_type": "execute_result"
    },
    {
     "data": {
      "image/png": "[encoded data removed]",
      "text/plain": [
       "<Figure size 432x288 with 2 Axes>"
      ]
     },
     "metadata": {
      "needs_background": "light"
     },
     "output_type": "display_data"
    }
   ],
   "source": [
    "plt.imshow(int_power_grid, extent=[z_low,3-z_low,3-z_low,z_low])\n",
    "plt.xlabel('z_source')\n",
    "plt.ylabel('z_lens')\n",
    "plt.colorbar()\n",
    "plt.title('Interloper plateau')\n",
    "#plt.savefig('imgs/feb25_intplat.png')"
   ]
  },
  {
   "cell_type": "markdown",
   "metadata": {},
   "source": [
    "## First interloper / subhalo ratio plot"
   ]
  },
  {
   "cell_type": "code",
   "execution_count": 25,
   "metadata": {},
   "outputs": [
    {
     "ename": "ValueError",
     "evalue": "operands could not be broadcast together with shapes (20,20) (100,100) ",
     "output_type": "error",
     "traceback": [
      "\u001b[0;31m---------------------------------------------------------------------------\u001b[0m",
      "\u001b[0;31mValueError\u001b[0m                                Traceback (most recent call last)",
      "\u001b[0;32m<ipython-input-25-8b378f0c1740>\u001b[0m in \u001b[0;36m<module>\u001b[0;34m\u001b[0m\n\u001b[0;32m----> 1\u001b[0;31m \u001b[0mplt\u001b[0m\u001b[0;34m.\u001b[0m\u001b[0mimshow\u001b[0m\u001b[0;34m(\u001b[0m\u001b[0mint_power_grid\u001b[0m \u001b[0;34m/\u001b[0m \u001b[0msub_power_grid\u001b[0m\u001b[0;34m,\u001b[0m \u001b[0mextent\u001b[0m\u001b[0;34m=\u001b[0m\u001b[0;34m[\u001b[0m\u001b[0mz_low\u001b[0m\u001b[0;34m,\u001b[0m\u001b[0;36m3\u001b[0m\u001b[0;34m-\u001b[0m\u001b[0mz_low\u001b[0m\u001b[0;34m,\u001b[0m\u001b[0;36m3\u001b[0m\u001b[0;34m-\u001b[0m\u001b[0mz_low\u001b[0m\u001b[0;34m,\u001b[0m\u001b[0mz_low\u001b[0m\u001b[0;34m]\u001b[0m\u001b[0;34m)\u001b[0m\u001b[0;34m\u001b[0m\u001b[0m\n\u001b[0m\u001b[1;32m      2\u001b[0m \u001b[0mplt\u001b[0m\u001b[0;34m.\u001b[0m\u001b[0mxlabel\u001b[0m\u001b[0;34m(\u001b[0m\u001b[0;34m'z_source'\u001b[0m\u001b[0;34m)\u001b[0m\u001b[0;34m\u001b[0m\u001b[0m\n\u001b[1;32m      3\u001b[0m \u001b[0mplt\u001b[0m\u001b[0;34m.\u001b[0m\u001b[0mylabel\u001b[0m\u001b[0;34m(\u001b[0m\u001b[0;34m'z_lens'\u001b[0m\u001b[0;34m)\u001b[0m\u001b[0;34m\u001b[0m\u001b[0m\n\u001b[1;32m      4\u001b[0m \u001b[0mplt\u001b[0m\u001b[0;34m.\u001b[0m\u001b[0mcolorbar\u001b[0m\u001b[0;34m(\u001b[0m\u001b[0;34m)\u001b[0m\u001b[0;34m\u001b[0m\u001b[0m\n\u001b[1;32m      5\u001b[0m \u001b[0mplt\u001b[0m\u001b[0;34m.\u001b[0m\u001b[0mtitle\u001b[0m\u001b[0;34m(\u001b[0m\u001b[0;34m'Interloper / Subhalo ratio'\u001b[0m\u001b[0;34m)\u001b[0m\u001b[0;34m\u001b[0m\u001b[0m\n",
      "\u001b[0;31mValueError\u001b[0m: operands could not be broadcast together with shapes (20,20) (100,100) "
     ]
    }
   ],
   "source": [
    "plt.imshow(int_power_grid / sub_power_grid, extent=[z_low,3-z_low,3-z_low,z_low])\n",
    "plt.xlabel('z_source')\n",
    "plt.ylabel('z_lens')\n",
    "plt.colorbar()\n",
    "plt.title('Interloper / Subhalo ratio')\n",
    "#plt.savefig('imgs/feb_25_int_sub_ratio.png')"
   ]
  },
  {
   "cell_type": "markdown",
   "metadata": {},
   "source": [
    "## Putting $\\Sigma_{cr}$ inside the integral"
   ]
  },
  {
   "cell_type": "code",
   "execution_count": 46,
   "metadata": {},
   "outputs": [],
   "source": [
    "# helper functions:\n",
    "def ADD(z1, z2):\n",
    "    return cosmo.angular_diameter_distance_z1z2(z1,z2)\n",
    "def sigma_cr_fast(zd,zs):\n",
    "    const = 1.663e18*u.M_sun / u.Mpc##c^2/(4 pi G)\n",
    "    return const*(ADD(0,zs)/(ADD(zd,zs)*ADD(0,zd))) ##in units Msun/Mpc^2\n",
    "\n",
    "## real deal integral ##\n",
    "def integrand2(chi, chil, chis):\n",
    "    # kpc_comoving\n",
    "    rad_term = double_cone_direct(chi, chil, chis)**2  # denom is automatically one in our convention\n",
    "    \n",
    "    sigcr = sigma_cr_fast(chi_to_z_fast(chi), chi_to_z_fast(chis)).to(u.Msun/u.kpc**2).value\n",
    "    \n",
    "    #sigcr *= 1e-6\n",
    "    \n",
    "    return rad_term * mass_integral_func(chi) / sigcr**2\n",
    "\n",
    "def interloper_power2(z_l, z_s):\n",
    "    assert(z_l < z_s)\n",
    "    \n",
    "    res = quad(integrand2, z_to_chi(z_low), z_to_chi(z_s), args=(z_to_chi(z_l), z_to_chi(z_s)))\n",
    "    power = res[0]\n",
    "    return power # in kpc^2"
   ]
  },
  {
   "cell_type": "code",
   "execution_count": 47,
   "metadata": {},
   "outputs": [
    {
     "data": {
      "text/plain": [
       "4.040955007264579e-06"
      ]
     },
     "execution_count": 47,
     "metadata": {},
     "output_type": "execute_result"
    }
   ],
   "source": [
    "interloper_power2(.5,1)"
   ]
  },
  {
   "cell_type": "code",
   "execution_count": 27,
   "metadata": {},
   "outputs": [
    {
     "name": "stdout",
     "output_type": "stream",
     "text": [
      "CPU times: user 22.8 s, sys: 24 ms, total: 22.9 s\n",
      "Wall time: 22.6 s\n"
     ]
    }
   ],
   "source": [
    "%%time\n",
    "\n",
    "# Calculate interloper power (plateau) grid\n",
    "zllist = np.linspace(z_low,3-z_low,20)\n",
    "zslist = np.linspace(z_low,3-z_low,20)\n",
    "int_power_grid2 = np.zeros((len(zllist), len(zslist)))\n",
    "for i_l, z_l in enumerate(zllist):\n",
    "    for i_s, z_s in enumerate(zslist):\n",
    "        if z_s <= z_l: continue\n",
    "        \n",
    "        int_power_grid2[i_l, i_s] = interloper_power2(z_l, z_s)"
   ]
  },
  {
   "cell_type": "code",
   "execution_count": 28,
   "metadata": {},
   "outputs": [
    {
     "data": {
      "text/plain": [
       "Text(0.5, 1.0, 'Interloper plateau ($\\\\Sigma_{cr}$ inside integral)')"
      ]
     },
     "execution_count": 28,
     "metadata": {},
     "output_type": "execute_result"
    },
    {
     "data": {
      "image/png": "[encoded data removed]",
      "text/plain": [
       "<Figure size 432x288 with 2 Axes>"
      ]
     },
     "metadata": {
      "needs_background": "light"
     },
     "output_type": "display_data"
    }
   ],
   "source": [
    "plt.imshow(int_power_grid2, extent=[z_low,3,3,z_low])\n",
    "plt.xlabel('z_source')\n",
    "plt.ylabel('z_lens')\n",
    "plt.colorbar()\n",
    "plt.title('Interloper plateau ($\\\\Sigma_{cr}$ inside integral)')\n",
    "#plt.savefig('imgs/feb25_int2plat.png')"
   ]
  },
  {
   "cell_type": "code",
   "execution_count": 29,
   "metadata": {},
   "outputs": [
    {
     "name": "stderr",
     "output_type": "stream",
     "text": [
      "/home/arthur/Documents/cosmo/interlopers/venv/lib/python3.5/site-packages/ipykernel_launcher.py:1: RuntimeWarning: invalid value encountered in true_divide\n",
      "  \"\"\"Entry point for launching an IPython kernel.\n"
     ]
    },
    {
     "data": {
      "text/plain": [
       "Text(0.5, 1.0, 'Log10 ratio of plateau: $\\\\Sigma_{cr}$ inside / $\\\\Sigma_{cr}$ outside')"
      ]
     },
     "execution_count": 29,
     "metadata": {},
     "output_type": "execute_result"
    },
    {
     "data": {
      "image/png": "[encoded data removed]",
      "text/plain": [
       "<Figure size 432x288 with 2 Axes>"
      ]
     },
     "metadata": {
      "needs_background": "light"
     },
     "output_type": "display_data"
    }
   ],
   "source": [
    "plt.imshow(np.log10(int_power_grid2 / int_power_grid), extent=[z_low,3,3,z_low])\n",
    "plt.xlabel('z_source')\n",
    "plt.ylabel('z_lens')\n",
    "plt.colorbar()\n",
    "plt.title(r'Log10 ratio of plateau: $\\Sigma_{cr}$ inside / $\\Sigma_{cr}$ outside')\n",
    "#plt.savefig('imgs/feb26_in_out_ratio.png')"
   ]
  },
  {
   "cell_type": "markdown",
   "metadata": {},
   "source": [
    "## Effective mass ratio"
   ]
  },
  {
   "cell_type": "code",
   "execution_count": 40,
   "metadata": {},
   "outputs": [],
   "source": [
    "def meff_ratio(z_inter, z_lens, z_source):\n",
    "    # z_inter is the redshift of the interloper\n",
    "    #a_inter = 1/(1+z_inter)\n",
    "    #a_source = 1/(1+z_source)\n",
    "    #chi_inter = cosmo.comoving_distance(z_inter)\n",
    "    #chi_source = cosmo.comoving_distance(z_source)\n",
    "    D_i = cosmo.angular_diameter_distance(z_inter) # a_inter * chi_inter\n",
    "    D_l = cosmo.angular_diameter_distance(z_lens)\n",
    "    D_s = cosmo.angular_diameter_distance(z_source)\n",
    "    D_is = cosmo.angular_diameter_distance_z1z2(z_inter, z_source) # a_source * (chi_source - chi_inter)\n",
    "    D_ls = cosmo.angular_diameter_distance_z1z2(z_lens, z_source)\n",
    "    \n",
    "    if z_inter == z_lens:\n",
    "        return 1\n",
    "    elif z_inter < z_lens: # foreground interloper\n",
    "        return D_i * D_is / D_l / D_ls\n",
    "    else: # background interloper\n",
    "        #chi_lens = cosmo.comoving_distance(z_lens)\n",
    "        #D_li = a_inter * (chi_inter - chi_lens)\n",
    "        D_li = cosmo.angular_diameter_distance_z1z2(z_lens, z_inter)\n",
    "        return (1-D_li*D_s/D_i/D_ls)*D_i*D_is/D_l/D_ls"
   ]
  },
  {
   "cell_type": "code",
   "execution_count": 41,
   "metadata": {},
   "outputs": [
    {
     "data": {
      "image/png": "[encoded data removed]",
      "text/plain": [
       "<Figure size 432x288 with 1 Axes>"
      ]
     },
     "metadata": {
      "needs_background": "light"
     },
     "output_type": "display_data"
    }
   ],
   "source": [
    "z_l_temp = .5\n",
    "z_s_temp = 1\n",
    "\n",
    "fig = plt.figure()\n",
    "z_vals = np.linspace(0,z_s_temp,100)\n",
    "meff_vals = np.array([meff_ratio(z, z_l_temp, z_s_temp) for z in z_vals])\n",
    "plt.plot(z_vals, meff_vals)\n",
    "plt.xlabel('z',fontsize=15)\n",
    "plt.ylabel('Effective mass ratio',fontsize=15)\n",
    "plt.gca().tick_params(labelsize=15)\n",
    "fig.text(.8,.8,'z_l = {}\\nz_s = {}'.format(z_l_temp, z_s_temp),size=15)\n",
    "plt.tight_layout()\n",
    "#plt.savefig('imgs/feb29_meffratio3.pdf')\n",
    "plt.show()"
   ]
  },
  {
   "cell_type": "markdown",
   "metadata": {},
   "source": [
    "Again, we first do the mass integrand, where the bounds are controlled by $m_\\mathrm{eff}$:\n",
    "$$\\int_{10^5}^{10^8} dm_\\mathrm{eff} \\frac{1}{f} n\\left(z, \\frac{m_\\mathrm{eff}}{f}\\right) m_\\mathrm{eff}^2$$\n",
    "where $f$ is the mass ratio graphed above."
   ]
  },
  {
   "cell_type": "code",
   "execution_count": 43,
   "metadata": {},
   "outputs": [],
   "source": [
    "def mass_integral(z, z_lens, z_source):\n",
    "    f = meff_ratio(z, z_lens, z_source)\n",
    "    f = max(f, .1) # to keep things within bounds (BUT THIS IS AN OVERESTIMATE)\n",
    "    #if f < .1: return 0\n",
    "    def mass_integrand(meff):\n",
    "        return 1/f * massfunc(z, meff/f) * meff**2\n",
    "    \n",
    "    return quad(mass_integrand, m_low, m_high, epsrel=.01)[0]"
   ]
  },
  {
   "cell_type": "markdown",
   "metadata": {},
   "source": [
    "And then we do the full integral:\n",
    "$$\\frac{1}{\\Sigma_{cr}^2}\\int_0^{\\chi(3)} d\\chi \\frac{R^2(z)}{R^2_l(z)} [\\mathrm{Mass\\, integral}]$$"
   ]
  },
  {
   "cell_type": "code",
   "execution_count": 51,
   "metadata": {},
   "outputs": [],
   "source": [
    "def interloper_power_meff(z_lens, z_source):\n",
    "    sigcr = sigma_cr(z_lens, z_source).to(u.Msun/u.kpc**2).value\n",
    "    chi_lens = z_to_chi(z_lens)\n",
    "    chi_source = z_to_chi(z_source)\n",
    "    res = quad(lambda chi: double_cone_direct(chi, chi_lens, chi_source)**2 \n",
    "               * mass_integral(chi_to_z_fast(chi), z_lens, z_source),\n",
    "               z_to_chi(z_low), z_to_chi(z_source),\n",
    "              epsrel=.01)\n",
    "    #print('res', res)\n",
    "    #print('sigcr', sigcr)\n",
    "    \n",
    "    return res[0] / sigcr**2"
   ]
  },
  {
   "cell_type": "code",
   "execution_count": 52,
   "metadata": {},
   "outputs": [
    {
     "data": {
      "text/plain": [
       "3.7359494812041463e-06"
      ]
     },
     "execution_count": 52,
     "metadata": {},
     "output_type": "execute_result"
    }
   ],
   "source": [
    "#total\n",
    "interloper_power_meff(.5,1)"
   ]
  },
  {
   "cell_type": "code",
   "execution_count": 47,
   "metadata": {},
   "outputs": [
    {
     "data": {
      "text/plain": [
       "2.675188033392571e-06"
      ]
     },
     "execution_count": 47,
     "metadata": {},
     "output_type": "execute_result"
    }
   ],
   "source": [
    "# foreground\n",
    "interloper_power_meff(.5, 1)"
   ]
  },
  {
   "cell_type": "code",
   "execution_count": 49,
   "metadata": {},
   "outputs": [
    {
     "data": {
      "text/plain": [
       "1.0608524729995961e-06"
      ]
     },
     "execution_count": 49,
     "metadata": {},
     "output_type": "execute_result"
    }
   ],
   "source": [
    "# background\n",
    "interloper_power_meff(.5, 1)"
   ]
  },
  {
   "cell_type": "code",
   "execution_count": 38,
   "metadata": {},
   "outputs": [
    {
     "name": "stdout",
     "output_type": "stream",
     "text": [
      "CPU times: user 10min 51s, sys: 3.34 s, total: 10min 54s\n",
      "Wall time: 10min 44s\n"
     ]
    }
   ],
   "source": [
    "%%time\n",
    "\n",
    "# Calculate interloper power (plateau) grid\n",
    "zllist = np.linspace(z_low,3,20)\n",
    "zslist = np.linspace(z_low,3,20)\n",
    "int_power_grid3 = np.zeros((len(zllist), len(zslist)))\n",
    "for i_l, z_l in enumerate(zllist):\n",
    "    for i_s, z_s in enumerate(zslist):\n",
    "        if z_s <= z_l: continue\n",
    "        \n",
    "        int_power_grid3[i_l, i_s] = interloper_power_meff(z_l, z_s)"
   ]
  },
  {
   "cell_type": "code",
   "execution_count": 75,
   "metadata": {},
   "outputs": [
    {
     "data": {
      "image/png": "[encoded data removed]",
      "text/plain": [
       "<Figure size 432x288 with 2 Axes>"
      ]
     },
     "metadata": {
      "needs_background": "light"
     },
     "output_type": "display_data"
    }
   ],
   "source": [
    "plt.imshow(int_power_grid3, extent=[z_low,3-z_low,3-z_low,z_low])\n",
    "plt.xlabel('z_source')\n",
    "plt.ylabel('z_lens')\n",
    "plt.colorbar()\n",
    "plt.title('Interloper plateau (using mass-effective)')\n",
    "#plt.savefig('imgs/feb29_meffgrid.png')"
   ]
  },
  {
   "cell_type": "code",
   "execution_count": 66,
   "metadata": {},
   "outputs": [
    {
     "name": "stderr",
     "output_type": "stream",
     "text": [
      "/home/arthur/Documents/cosmo/interlopers/venv/lib/python3.5/site-packages/ipykernel_launcher.py:1: RuntimeWarning: invalid value encountered in true_divide\n",
      "  \"\"\"Entry point for launching an IPython kernel.\n"
     ]
    },
    {
     "data": {
      "image/png": "[encoded data removed]",
      "text/plain": [
       "<Figure size 432x288 with 2 Axes>"
      ]
     },
     "metadata": {
      "needs_background": "light"
     },
     "output_type": "display_data"
    }
   ],
   "source": [
    "plt.imshow(int_power_grid3/int_power_grid, extent=[z_low,3-z_low,3-z_low,z_low])\n",
    "plt.xlabel('z_source', size=15)\n",
    "plt.ylabel('z_lens', size=15)\n",
    "plt.colorbar()\n",
    "plt.title('m_eff ratio / naive plateau', size=15)\n",
    "plt.savefig('imgs/feb29_meffnomeff.png')"
   ]
  },
  {
   "cell_type": "markdown",
   "metadata": {},
   "source": [
    "## New effective mass ratio"
   ]
  },
  {
   "cell_type": "code",
   "execution_count": 16,
   "metadata": {},
   "outputs": [],
   "source": [
    "from helpers import ADD\n",
    "def meff_ratio_new(zi,zl,zs):\n",
    "    Dl = ADD(0.,zl)\n",
    "    Di = ADD(0.,zi)\n",
    "    Ds = ADD(0.,zs)\n",
    "    Dls = ADD(zl,zs)\n",
    "    Dis = ADD(zi,zs)\n",
    "    if zi < zl:\n",
    "        Dil = ADD(zi,zl)\n",
    "        return (((Dl/Di))*(Dis/Dls))*(1.+((Dil*Ds)/(Dis*Dl)))\n",
    "    if zi >= zl:\n",
    "        Dli = ADD(zl,zi)\n",
    "        return ((Dl/Di))*(Dis/Dls)*(1./(1.-((Dli*Ds)/(Dls*Di))))"
   ]
  },
  {
   "cell_type": "code",
   "execution_count": 31,
   "metadata": {},
   "outputs": [
    {
     "data": {
      "image/png": "[encoded data removed]",
      "text/plain": [
       "<Figure size 432x288 with 1 Axes>"
      ]
     },
     "metadata": {
      "needs_background": "light"
     },
     "output_type": "display_data"
    },
    {
     "data": {
      "image/png": "[encoded data removed]",
      "text/plain": [
       "<Figure size 432x288 with 1 Axes>"
      ]
     },
     "metadata": {
      "needs_background": "light"
     },
     "output_type": "display_data"
    }
   ],
   "source": [
    "z_l_temp = .5\n",
    "z_s_temp = 1\n",
    "\n",
    "fig = plt.figure()\n",
    "z_vals = np.linspace(0,z_s_temp,100)\n",
    "meff_vals = np.array([meff_ratio_new(z, z_l_temp, z_s_temp) for z in z_vals])\n",
    "plt.plot(z_vals, meff_vals)\n",
    "plt.xlabel('z',fontsize=15)\n",
    "plt.ylabel('Effective mass ratio',fontsize=15)\n",
    "plt.gca().tick_params(labelsize=15)\n",
    "fig.text(.8,.8,'z_l = {}\\nz_s = {}'.format(z_l_temp, z_s_temp),size=15)\n",
    "plt.tight_layout()\n",
    "plt.show()\n",
    "\n",
    "plt.plot(z_vals, meff_vals)\n",
    "plt.gca().set_yscale('log')\n",
    "plt.xlabel('z',fontsize=15)\n",
    "plt.ylabel('Effective mass ratio',fontsize=15)\n",
    "plt.gca().tick_params(labelsize=15)\n",
    "fig.text(.8,.8,'z_l = {}\\nz_s = {}'.format(z_l_temp, z_s_temp),size=15)\n",
    "plt.tight_layout()\n",
    "plt.show()"
   ]
  },
  {
   "cell_type": "code",
   "execution_count": 35,
   "metadata": {},
   "outputs": [],
   "source": [
    "def mass_integral_new(z, z_lens, z_source):\n",
    "    f = meff_ratio_new(z, z_lens, z_source)\n",
    "    f = max(f, .1) # to keep things within bounds (BUT THIS IS AN OVERESTIMATE)\n",
    "    #if f < .1: return 0\n",
    "    def mass_integrand(meff):\n",
    "        return 1/f * massfunc(z, meff/f) * meff**2\n",
    "    \n",
    "    return quad(mass_integrand, m_low, m_high, epsrel=.01)[0]"
   ]
  },
  {
   "cell_type": "code",
   "execution_count": 36,
   "metadata": {},
   "outputs": [],
   "source": [
    "def interloper_power_meff_new(z_lens, z_source):\n",
    "    sigcr = sigma_cr(z_lens, z_source).to(u.Msun/u.kpc**2).value\n",
    "    chi_lens = z_to_chi(z_lens)\n",
    "    chi_source = z_to_chi(z_source)\n",
    "    res = quad(lambda chi: double_cone_direct(chi, chi_lens, chi_source)**2 \n",
    "               * mass_integral_new(chi_to_z_fast(chi), z_lens, z_source),\n",
    "               z_to_chi(z_low), z_to_chi(z_source),\n",
    "              epsrel=.01)\n",
    "    #print('res', res)\n",
    "    #print('sigcr', sigcr)\n",
    "    \n",
    "    return res[0] / sigcr**2"
   ]
  },
  {
   "cell_type": "code",
   "execution_count": 37,
   "metadata": {},
   "outputs": [
    {
     "name": "stdout",
     "output_type": "stream",
     "text": [
      "CPU times: user 1.91 s, sys: 16 ms, total: 1.92 s\n",
      "Wall time: 1.89 s\n"
     ]
    },
    {
     "data": {
      "text/plain": [
       "8.601362820031927e-06"
      ]
     },
     "execution_count": 37,
     "metadata": {},
     "output_type": "execute_result"
    }
   ],
   "source": [
    "%%time\n",
    "interloper_power_meff_new(.5, 1)"
   ]
  },
  {
   "cell_type": "markdown",
   "metadata": {},
   "source": [
    "## Old cells"
   ]
  }
 ],
 "metadata": {
  "kernelspec": {
   "display_name": "Python 3",
   "language": "python",
   "name": "python3"
  },
  "language_info": {
   "codemirror_mode": {
    "name": "ipython",
    "version": 3
   },
   "file_extension": ".py",
   "mimetype": "text/x-python",
   "name": "python",
   "nbconvert_exporter": "python",
   "pygments_lexer": "ipython3",
   "version": "3.5.3"
  }
 },
 "nbformat": 4,
 "nbformat_minor": 4
}
